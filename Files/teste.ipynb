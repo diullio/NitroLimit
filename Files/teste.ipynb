{
 "cells": [
  {
   "cell_type": "code",
   "execution_count": 3,
   "metadata": {},
   "outputs": [],
   "source": [
    "dictEMA = [{'Name': 'N-Nitroso-Orphenadrine',\n",
    "  'Smiles': 'CN(CCOC(c1ccccc1)c2ccccc2C)N=O',\n",
    "  'CPC': '1',\n",
    "  'AI / ngday-': '18'},\n",
    " {'Name': 'N-Nitroso-betahistine',\n",
    "  'Smiles': 'CN(CCC1=CC=CC=N1)N=O',\n",
    "  'CPC': '1',\n",
    "  'AI / ngday-': '18'},\n",
    " {'Name': 'N-nitroso-desmethyl-chloropyramine',\n",
    "  'Smiles': 'CN(CCN(Cc1ccc(Cl)cc1)c2ccccn2)N=O',\n",
    "  'CPC': '1',\n",
    "  'AI / ngday-': '18'},\n",
    " {'Name': 'N-nitroso-desmethyl-tripelennamine',\n",
    "  'Smiles': 'CN(CCN(Cc1ccccc1)c2ccccn2)N=O',\n",
    "  'CPC': '1',\n",
    "  'AI / ngday-': '18'},\n",
    " {'Name': 'P-chlorobenzylamino-pyridine',\n",
    "  'Smiles': 'Clc1ccc(CN(N=O)c2ccccn2)cc1',\n",
    "  'CPC': '2',\n",
    "  'AI / ngday-': '100'},\n",
    " {'Name': 'N-nitroso-phenylephrine',\n",
    "  'Smiles': 'CN(C[C](O)c1cccc(O)c1)N=O',\n",
    "  'CPC': '2',\n",
    "  'AI / ngday-': '100'},\n",
    " {'Name': 'N-nitroso-rasagiline',\n",
    "  'Smiles': 'O=NN(CC#C)[C]1CCc2ccccc12',\n",
    "  'CPC': '2',\n",
    "  'AI / ngday-': '100'},\n",
    " {'Name': 'N-nitroso-sertraline',\n",
    "  'Smiles': 'CN(N=O)[C]1CC[C](c2ccc(Cl)c(Cl)c2)c3ccccc13',\n",
    "  'CPC': '2',\n",
    "  'AI / ngday-': '100'},\n",
    " {'Name': '1-cyclopropylmethyl-4-nitrosopiperazine',\n",
    "  'Smiles': 'O=NN1CCN(CC1)CC2CC2',\n",
    "  'CPC': '3',\n",
    "  'AI / ngday-': '400'},\n",
    " {'Name': '1-methyl-4-nitroso piperazine',\n",
    "  'Smiles': 'CN1CCN(CC1)N=O',\n",
    "  'CPC': '3',\n",
    "  'AI / ngday-': '400'},\n",
    " {'Name': 'nitroso impurity C” [N- (2,6-dimethylphenyl)-2- (4-nitrosopiperazin-1- yl)acetamide]',\n",
    "  'Smiles': 'Cc1cccc(C)c1NC(=O)CN2CCN(CC2)N=O',\n",
    "  'CPC': '3',\n",
    "  'AI / ngday-': '400'},\n",
    " {'Name': 'N-nitroso-ambroxol',\n",
    "  'Smiles': 'C1CC(CCC1N(CC2=C(C(=CC(=C2)Br)Br)N)N=O)O',\n",
    "  'CPC': '3',\n",
    "  'AI / ngday-': '400'},\n",
    " {'Name': 'N-nitroso-aryl piperazine /N-nitroso-desalkyl quetiapine',\n",
    "  'Smiles': 'O=NN1CCN(CC1)C2=Nc3ccccc3Sc4ccccc24',\n",
    "  'CPC': '3',\n",
    "  'AI / ngday-': '400'},\n",
    " {'Name': 'N-nitroso-dabigatran',\n",
    "  'Smiles': 'Cn1c(CN(N=O)c2ccc(cc2)C(N)=N)nc3cc(ccc13)C(=O)N(CCC(O)=O)c4ccccn4',\n",
    "  'CPC': '3',\n",
    "  'AI / ngday-': '400'},\n",
    " {'Name': 'N-nitroso-desloratadine',\n",
    "  'Smiles': 'C1CC2=C(C=CC(=C2)Cl)C(=C3CCN(CC3)N=O)C4=C1C=CC=N4',\n",
    "  'CPC': '3',\n",
    "  'AI / ngday-': '400'},\n",
    " {'Name': 'N-nitroso-Landiolol',\n",
    "  'Smiles': 'CC1(C)OC[C](COC(=O)CCc2ccc(OC[C](O)CN(CCNC(=O)N3CCOCC3)N=O)cc2)O1',\n",
    "  'CPC': '3',\n",
    "  'AI / ngday-': '400'},\n",
    " {'Name': 'N-nitroso-mirabegron',\n",
    "  'Smiles': 'Nc1scc(CC(=O)Nc2ccc(CCN(C[C](O)c3ccccc3)N=O)cc2)n1',\n",
    "  'CPC': '3',\n",
    "  'AI / ngday-': '400'},\n",
    " {'Name': 'N-nitroso-N-ethyl-valacyclovir',\n",
    "  'Smiles': 'CCN(N=O)[C](C(C)C)C(=O)OCCOCn1cnc2C(=O)NC(=Nc12)N',\n",
    "  'CPC': '3',\n",
    "  'AI / ngday-': '400'},\n",
    " {'Name': 'N-nitroso-N-methyl-valacyclovir',\n",
    "  'Smiles': 'CC(C)[C](N(C)N=O)C(=O)OCCOCn1cnc2C(=O)NC(=Nc12)N',\n",
    "  'CPC': '3',\n",
    "  'AI / ngday-': '400'},\n",
    " {'Name': 'N-nitroso-piperazine',\n",
    "  'Smiles': 'C1CN(CCN1)N=O',\n",
    "  'CPC': '3',\n",
    "  'AI / ngday-': '400'},\n",
    " {'Name': 'N-nitroso-pramipexole',\n",
    "  'Smiles': 'CCCN(N=O)[C]1CCc2nc(N)sc2C1',\n",
    "  'CPC': '3',\n",
    "  'AI / ngday-': '400'},\n",
    " {'Name': 'N-nitroso-trimetazidine',\n",
    "  'Smiles': 'COC1=C(C(=C(C=C1)CN2CCN(CC2)N=O)OC)OC',\n",
    "  'CPC': '3',\n",
    "  'AI / ngday-': '400'},\n",
    " {'Name': 'N-nitroso-vortioxetine',\n",
    "  'Smiles': 'Cc1ccc(Sc2ccccc2N3CCN(CC3)N=O)c(C)c1',\n",
    "  'CPC': '3',\n",
    "  'AI / ngday-': '400'},\n",
    " {'Name': '1-nitroso-pyrrolopiperidine',\n",
    "  'Smiles': 'O=NN1CCCC2CNCC12',\n",
    "  'CPC': '4',\n",
    "  'AI / ngday-': '1500'},\n",
    " {'Name': 'Nitroso-praziquanamine',\n",
    "  'Smiles': 'O=NN1CC2N(CCc3ccccc23)C(=O)C1',\n",
    "  'CPC': '4',\n",
    "  'AI / ngday-': '1500'},\n",
    " {'Name': 'N-nitroso-N-(2,6-dimethylphenyl)piperidine-2-carboxamide',\n",
    "  'Smiles': 'Cc1cccc(C)c1NC(=O)C2CCCCN2N=O',\n",
    "  'CPC': '4',\n",
    "  'AI / ngday-': '1500'},\n",
    " {'Name': 'N-nitroso-atenolol',\n",
    "  'Smiles': 'CC(C)N(CC(COC1=CC=C(C=C1)CC(=O)N)O)N=O',\n",
    "  'CPC': '4',\n",
    "  'AI / ngday-': '1500'},\n",
    " {'Name': 'N-nitroso-bisoprolol',\n",
    "  'Smiles': 'CC(C)OCCOCc1ccc(OCC(O)CN(N=O)C(C)C)cc1',\n",
    "  'CPC': '4',\n",
    "  'AI / ngday-': '1500'},\n",
    " {'Name': 'N-nitroso-bumetanide',\n",
    "  'Smiles': 'CCCCN(C1=C(C(=CC(=C1)C(=O)O)S(=O)(=O)N)OC2=CC=CC=C2)N=O',\n",
    "  'CPC': '4',\n",
    "  'AI / ngday-': '1500'},\n",
    " {'Name': 'N-nitroso-ciprofloxacin',\n",
    "  'Smiles': 'C1CC1N2C=C(C(=O)C3=CC(=C(C=C32)N4CCN(CC4)N=O)F)C(=O)O',\n",
    "  'CPC': '4',\n",
    "  'AI / ngday-': '1500'},\n",
    " {'Name': 'N-nitroso-folic acid',\n",
    "  'Smiles': 'C1=CC(=CC=C1C(=O)NC(CCC(=O)O)C(=O)O)N(CC2=CN=C3C(=N2)C(=O)NC(=N3)N)N=O',\n",
    "  'CPC': '4',\n",
    "  'AI / ngday-': '1500'},\n",
    " {'Name': 'N-nitroso-labetalol',\n",
    "  'Smiles': 'CC(CCc1ccccc1)N(CC(O)c2ccc(O)c(c2)C(N)=O)N=O',\n",
    "  'CPC': '4',\n",
    "  'AI / ngday-': '1500'},\n",
    " {'Name': 'N-nitroso-levofloxacin',\n",
    "  'Smiles': 'CC1COC2=C3N1C=C(C(=O)C3=CC(=C2N4CCN(CC4)N=O)F)C(=O)O',\n",
    "  'CPC': '4',\n",
    "  'AI / ngday-': '1500'},\n",
    " {'Name': 'N-nitroso-metoprolol',\n",
    "  'Smiles': 'CC(C)N(CC(COC1=CC=C(C=C1)CCOC)O)N=O',\n",
    "  'CPC': '4',\n",
    "  'AI / ngday-': '1500'},\n",
    " {'Name': 'N-nitroso-moxifloxacin',\n",
    "  'Smiles': 'COc1c(N2C[C@@H]3CCCN(N=O)[C@@H]3C2)c(F)cc4C(=O)C(=CN(C5CC5)c14)C(O)=O',\n",
    "  'CPC': '4',\n",
    "  'AI / ngday-': '1500'},\n",
    " {'Name': 'N-nitroso-nebivolol',\n",
    "  'Smiles': 'C1CC2=C(C=CC(=C2)F)OC1C(CN(CC(C3CCC4=C(O3)C=CC(=C4)F)O)N=O)O',\n",
    "  'CPC': '4',\n",
    "  'AI / ngday-': '1500'},\n",
    " {'Name': 'N-nitroso Propranolol',\n",
    "  'Smiles': 'CC(C)N(CC(COC1=CC=CC2=CC=CC=C21)O)N=O',\n",
    "  'CPC': '4',\n",
    "  'AI / ngday-': '1500'},\n",
    " {'Name': 'N-nitroso-pseudoephedrine',\n",
    "  'Smiles': 'CC(C(C1=CC=CC=C1)O)N(C)N=O',\n",
    "  'CPC': '4',\n",
    "  'AI / ngday-': '1500'},\n",
    " {'Name': 'N-nitroso-sotalol',\n",
    "  'Smiles': 'CC(C)N(CC(C1=CC=C(C=C1)NS(=O)(=O)C)O)N=O',\n",
    "  'CPC': '4',\n",
    "  'AI / ngday-': '1500'},\n",
    " {'Name': 'N-nitroso-tamsulosin',\n",
    "  'Smiles': 'CCOc1ccccc1OCCN(N=O)[C](C)Cc2ccc(OC)c(c2)[S](N)(=O)=O',\n",
    "  'CPC': '4',\n",
    "  'AI / ngday-': '1500'},\n",
    " {'Name': 'N-nitroso-diclofenac',\n",
    "  'Smiles': 'C1=CC=C(C(=C1)CC(=O)O)N(C2=C(C=CC=C2Cl)Cl)N=O',\n",
    "  'CPC': '5',\n",
    "  'AI / ngday-': '1500'},\n",
    " {'Name': 'N-nitroso-benazepril',\n",
    "  'Smiles': 'CCOC(=O)[C](CCc1ccccc1)N(N=O)[C]2CCc3ccccc3N(CC(O)=O)C2=O',\n",
    "  'CPC': '5',\n",
    "  'AI / ngday-': '1500'},\n",
    " {'Name': 'N-nitroso-bupropion',\n",
    "  'Smiles': 'CC(C(=O)C1=CC(=CC=C1)Cl)N(C(C)(C)C)N=O',\n",
    "  'CPC': '5',\n",
    "  'AI / ngday-': '1500'},\n",
    " {'Name': 'N-nitroso-cilazapril',\n",
    "  'Smiles': 'CCOC(=O)C(CCC1=CC=CC=C1)N(C2CCCN3CCCC(N3C2=O)C(=O)O)N=O',\n",
    "  'CPC': '5',\n",
    "  'AI / ngday-': '1500'},\n",
    " {'Name': 'N-nitroso-enalapril',\n",
    "  'Smiles': 'CCOC(=O)C(CCC1=CC=CC=C1)N(C(C)C(=O)N2CCCC2C(=O)O)N=O',\n",
    "  'CPC': '5',\n",
    "  'AI / ngday-': '1500'},\n",
    " {'Name': 'N-nitroso-lisinopril',\n",
    "  'Smiles': 'NCCCC[C](N(N=O)[C](CCc1ccccc1)C(O)=O)C(=O)N2CCC[C]2C(O)=O',\n",
    "  'CPC': '5',\n",
    "  'AI / ngday-': '1500'},\n",
    " {'Name': 'N-nitroso-perindopril',\n",
    "  'Smiles': 'CCC[C](N(N=O)[C](C)C(=O)N1[C](C[C@@H]2CCCC[C@H]12)C(O)=O)C(=O)OCC',\n",
    "  'CPC': '5',\n",
    "  'AI / ngday-': '1500'},\n",
    " {'Name': 'N-nitroso-ramipril',\n",
    "  'Smiles': 'CCOC(=O)[C](CCc1ccccc1)N(N=O)[C](C)C(=O)N2[C](C[C@@H]3CCC[C@H]23)C(O)=O',\n",
    "  'CPC': '5',\n",
    "  'AI / ngday-': '1500'},\n",
    " {'Name': 'N-nitroso-desmethyl trimebutine',\n",
    "  'Smiles': 'CCC(COC(=O)c1cc(OC)c(OC)c(OC)c1)(N(C)N=O)c2ccccc2',\n",
    "  'CPC': '5',\n",
    "  'AI / ngday-': '1500'},\n",
    " {'Name': 'N-nitroso-ketamine',\n",
    "  'Smiles': 'CN(C1(CCCCC1=O)C2=CC=CC=C2Cl)N=O',\n",
    "  'CPC': '5',\n",
    "  'AI / ngday-': '1500'},\n",
    " {'Name': 'N-nitroso-salbutamol',\n",
    "  'Smiles': 'CC(C)(C)N(CC(C1=CC(=C(C=C1)O)CO)O)N=O',\n",
    "  'CPC': '5',\n",
    "  'AI / ngday-': '1500'},\n",
    " {'Name': 'N-nitroso-vildagliptin',\n",
    "  'Smiles': 'OC12CC3CC(C1)CC(C3)(C2)N(CC(=O)N4CCC[C]4C#N)N=O',\n",
    "  'CPC': '5',\n",
    "  'AI / ngday-': '1500'}]"
   ]
  },
  {
   "cell_type": "code",
   "execution_count": 4,
   "metadata": {},
   "outputs": [],
   "source": [
    "import pandas as pd"
   ]
  },
  {
   "cell_type": "code",
   "execution_count": 6,
   "metadata": {},
   "outputs": [
    {
     "data": {
      "text/html": [
       "<div>\n",
       "<style scoped>\n",
       "    .dataframe tbody tr th:only-of-type {\n",
       "        vertical-align: middle;\n",
       "    }\n",
       "\n",
       "    .dataframe tbody tr th {\n",
       "        vertical-align: top;\n",
       "    }\n",
       "\n",
       "    .dataframe thead th {\n",
       "        text-align: right;\n",
       "    }\n",
       "</style>\n",
       "<table border=\"1\" class=\"dataframe\">\n",
       "  <thead>\n",
       "    <tr style=\"text-align: right;\">\n",
       "      <th></th>\n",
       "      <th>Name</th>\n",
       "      <th>Smiles</th>\n",
       "      <th>CPC</th>\n",
       "      <th>AI / ngday-</th>\n",
       "    </tr>\n",
       "  </thead>\n",
       "  <tbody>\n",
       "    <tr>\n",
       "      <th>0</th>\n",
       "      <td>N-Nitroso-Orphenadrine</td>\n",
       "      <td>CN(CCOC(c1ccccc1)c2ccccc2C)N=O</td>\n",
       "      <td>1</td>\n",
       "      <td>18</td>\n",
       "    </tr>\n",
       "    <tr>\n",
       "      <th>1</th>\n",
       "      <td>N-Nitroso-betahistine</td>\n",
       "      <td>CN(CCC1=CC=CC=N1)N=O</td>\n",
       "      <td>1</td>\n",
       "      <td>18</td>\n",
       "    </tr>\n",
       "    <tr>\n",
       "      <th>2</th>\n",
       "      <td>N-nitroso-desmethyl-chloropyramine</td>\n",
       "      <td>CN(CCN(Cc1ccc(Cl)cc1)c2ccccn2)N=O</td>\n",
       "      <td>1</td>\n",
       "      <td>18</td>\n",
       "    </tr>\n",
       "    <tr>\n",
       "      <th>3</th>\n",
       "      <td>N-nitroso-desmethyl-tripelennamine</td>\n",
       "      <td>CN(CCN(Cc1ccccc1)c2ccccn2)N=O</td>\n",
       "      <td>1</td>\n",
       "      <td>18</td>\n",
       "    </tr>\n",
       "    <tr>\n",
       "      <th>4</th>\n",
       "      <td>P-chlorobenzylamino-pyridine</td>\n",
       "      <td>Clc1ccc(CN(N=O)c2ccccn2)cc1</td>\n",
       "      <td>2</td>\n",
       "      <td>100</td>\n",
       "    </tr>\n",
       "    <tr>\n",
       "      <th>5</th>\n",
       "      <td>N-nitroso-phenylephrine</td>\n",
       "      <td>CN(C[C](O)c1cccc(O)c1)N=O</td>\n",
       "      <td>2</td>\n",
       "      <td>100</td>\n",
       "    </tr>\n",
       "    <tr>\n",
       "      <th>6</th>\n",
       "      <td>N-nitroso-rasagiline</td>\n",
       "      <td>O=NN(CC#C)[C]1CCc2ccccc12</td>\n",
       "      <td>2</td>\n",
       "      <td>100</td>\n",
       "    </tr>\n",
       "    <tr>\n",
       "      <th>7</th>\n",
       "      <td>N-nitroso-sertraline</td>\n",
       "      <td>CN(N=O)[C]1CC[C](c2ccc(Cl)c(Cl)c2)c3ccccc13</td>\n",
       "      <td>2</td>\n",
       "      <td>100</td>\n",
       "    </tr>\n",
       "    <tr>\n",
       "      <th>8</th>\n",
       "      <td>1-cyclopropylmethyl-4-nitrosopiperazine</td>\n",
       "      <td>O=NN1CCN(CC1)CC2CC2</td>\n",
       "      <td>3</td>\n",
       "      <td>400</td>\n",
       "    </tr>\n",
       "    <tr>\n",
       "      <th>9</th>\n",
       "      <td>1-methyl-4-nitroso piperazine</td>\n",
       "      <td>CN1CCN(CC1)N=O</td>\n",
       "      <td>3</td>\n",
       "      <td>400</td>\n",
       "    </tr>\n",
       "    <tr>\n",
       "      <th>10</th>\n",
       "      <td>nitroso impurity C” [N- (2,6-dimethylphenyl)-2...</td>\n",
       "      <td>Cc1cccc(C)c1NC(=O)CN2CCN(CC2)N=O</td>\n",
       "      <td>3</td>\n",
       "      <td>400</td>\n",
       "    </tr>\n",
       "    <tr>\n",
       "      <th>11</th>\n",
       "      <td>N-nitroso-ambroxol</td>\n",
       "      <td>C1CC(CCC1N(CC2=C(C(=CC(=C2)Br)Br)N)N=O)O</td>\n",
       "      <td>3</td>\n",
       "      <td>400</td>\n",
       "    </tr>\n",
       "    <tr>\n",
       "      <th>12</th>\n",
       "      <td>N-nitroso-aryl piperazine /N-nitroso-desalkyl ...</td>\n",
       "      <td>O=NN1CCN(CC1)C2=Nc3ccccc3Sc4ccccc24</td>\n",
       "      <td>3</td>\n",
       "      <td>400</td>\n",
       "    </tr>\n",
       "    <tr>\n",
       "      <th>13</th>\n",
       "      <td>N-nitroso-dabigatran</td>\n",
       "      <td>Cn1c(CN(N=O)c2ccc(cc2)C(N)=N)nc3cc(ccc13)C(=O)...</td>\n",
       "      <td>3</td>\n",
       "      <td>400</td>\n",
       "    </tr>\n",
       "    <tr>\n",
       "      <th>14</th>\n",
       "      <td>N-nitroso-desloratadine</td>\n",
       "      <td>C1CC2=C(C=CC(=C2)Cl)C(=C3CCN(CC3)N=O)C4=C1C=CC=N4</td>\n",
       "      <td>3</td>\n",
       "      <td>400</td>\n",
       "    </tr>\n",
       "    <tr>\n",
       "      <th>15</th>\n",
       "      <td>N-nitroso-Landiolol</td>\n",
       "      <td>CC1(C)OC[C](COC(=O)CCc2ccc(OC[C](O)CN(CCNC(=O)...</td>\n",
       "      <td>3</td>\n",
       "      <td>400</td>\n",
       "    </tr>\n",
       "    <tr>\n",
       "      <th>16</th>\n",
       "      <td>N-nitroso-mirabegron</td>\n",
       "      <td>Nc1scc(CC(=O)Nc2ccc(CCN(C[C](O)c3ccccc3)N=O)cc...</td>\n",
       "      <td>3</td>\n",
       "      <td>400</td>\n",
       "    </tr>\n",
       "    <tr>\n",
       "      <th>17</th>\n",
       "      <td>N-nitroso-N-ethyl-valacyclovir</td>\n",
       "      <td>CCN(N=O)[C](C(C)C)C(=O)OCCOCn1cnc2C(=O)NC(=Nc12)N</td>\n",
       "      <td>3</td>\n",
       "      <td>400</td>\n",
       "    </tr>\n",
       "    <tr>\n",
       "      <th>18</th>\n",
       "      <td>N-nitroso-N-methyl-valacyclovir</td>\n",
       "      <td>CC(C)[C](N(C)N=O)C(=O)OCCOCn1cnc2C(=O)NC(=Nc12)N</td>\n",
       "      <td>3</td>\n",
       "      <td>400</td>\n",
       "    </tr>\n",
       "    <tr>\n",
       "      <th>19</th>\n",
       "      <td>N-nitroso-piperazine</td>\n",
       "      <td>C1CN(CCN1)N=O</td>\n",
       "      <td>3</td>\n",
       "      <td>400</td>\n",
       "    </tr>\n",
       "    <tr>\n",
       "      <th>20</th>\n",
       "      <td>N-nitroso-pramipexole</td>\n",
       "      <td>CCCN(N=O)[C]1CCc2nc(N)sc2C1</td>\n",
       "      <td>3</td>\n",
       "      <td>400</td>\n",
       "    </tr>\n",
       "    <tr>\n",
       "      <th>21</th>\n",
       "      <td>N-nitroso-trimetazidine</td>\n",
       "      <td>COC1=C(C(=C(C=C1)CN2CCN(CC2)N=O)OC)OC</td>\n",
       "      <td>3</td>\n",
       "      <td>400</td>\n",
       "    </tr>\n",
       "    <tr>\n",
       "      <th>22</th>\n",
       "      <td>N-nitroso-vortioxetine</td>\n",
       "      <td>Cc1ccc(Sc2ccccc2N3CCN(CC3)N=O)c(C)c1</td>\n",
       "      <td>3</td>\n",
       "      <td>400</td>\n",
       "    </tr>\n",
       "    <tr>\n",
       "      <th>23</th>\n",
       "      <td>1-nitroso-pyrrolopiperidine</td>\n",
       "      <td>O=NN1CCCC2CNCC12</td>\n",
       "      <td>4</td>\n",
       "      <td>1500</td>\n",
       "    </tr>\n",
       "    <tr>\n",
       "      <th>24</th>\n",
       "      <td>Nitroso-praziquanamine</td>\n",
       "      <td>O=NN1CC2N(CCc3ccccc23)C(=O)C1</td>\n",
       "      <td>4</td>\n",
       "      <td>1500</td>\n",
       "    </tr>\n",
       "    <tr>\n",
       "      <th>25</th>\n",
       "      <td>N-nitroso-N-(2,6-dimethylphenyl)piperidine-2-c...</td>\n",
       "      <td>Cc1cccc(C)c1NC(=O)C2CCCCN2N=O</td>\n",
       "      <td>4</td>\n",
       "      <td>1500</td>\n",
       "    </tr>\n",
       "    <tr>\n",
       "      <th>26</th>\n",
       "      <td>N-nitroso-atenolol</td>\n",
       "      <td>CC(C)N(CC(COC1=CC=C(C=C1)CC(=O)N)O)N=O</td>\n",
       "      <td>4</td>\n",
       "      <td>1500</td>\n",
       "    </tr>\n",
       "    <tr>\n",
       "      <th>27</th>\n",
       "      <td>N-nitroso-bisoprolol</td>\n",
       "      <td>CC(C)OCCOCc1ccc(OCC(O)CN(N=O)C(C)C)cc1</td>\n",
       "      <td>4</td>\n",
       "      <td>1500</td>\n",
       "    </tr>\n",
       "    <tr>\n",
       "      <th>28</th>\n",
       "      <td>N-nitroso-bumetanide</td>\n",
       "      <td>CCCCN(C1=C(C(=CC(=C1)C(=O)O)S(=O)(=O)N)OC2=CC=...</td>\n",
       "      <td>4</td>\n",
       "      <td>1500</td>\n",
       "    </tr>\n",
       "    <tr>\n",
       "      <th>29</th>\n",
       "      <td>N-nitroso-ciprofloxacin</td>\n",
       "      <td>C1CC1N2C=C(C(=O)C3=CC(=C(C=C32)N4CCN(CC4)N=O)F...</td>\n",
       "      <td>4</td>\n",
       "      <td>1500</td>\n",
       "    </tr>\n",
       "    <tr>\n",
       "      <th>30</th>\n",
       "      <td>N-nitroso-folic acid</td>\n",
       "      <td>C1=CC(=CC=C1C(=O)NC(CCC(=O)O)C(=O)O)N(CC2=CN=C...</td>\n",
       "      <td>4</td>\n",
       "      <td>1500</td>\n",
       "    </tr>\n",
       "    <tr>\n",
       "      <th>31</th>\n",
       "      <td>N-nitroso-labetalol</td>\n",
       "      <td>CC(CCc1ccccc1)N(CC(O)c2ccc(O)c(c2)C(N)=O)N=O</td>\n",
       "      <td>4</td>\n",
       "      <td>1500</td>\n",
       "    </tr>\n",
       "    <tr>\n",
       "      <th>32</th>\n",
       "      <td>N-nitroso-levofloxacin</td>\n",
       "      <td>CC1COC2=C3N1C=C(C(=O)C3=CC(=C2N4CCN(CC4)N=O)F)...</td>\n",
       "      <td>4</td>\n",
       "      <td>1500</td>\n",
       "    </tr>\n",
       "    <tr>\n",
       "      <th>33</th>\n",
       "      <td>N-nitroso-metoprolol</td>\n",
       "      <td>CC(C)N(CC(COC1=CC=C(C=C1)CCOC)O)N=O</td>\n",
       "      <td>4</td>\n",
       "      <td>1500</td>\n",
       "    </tr>\n",
       "    <tr>\n",
       "      <th>34</th>\n",
       "      <td>N-nitroso-moxifloxacin</td>\n",
       "      <td>COc1c(N2C[C@@H]3CCCN(N=O)[C@@H]3C2)c(F)cc4C(=O...</td>\n",
       "      <td>4</td>\n",
       "      <td>1500</td>\n",
       "    </tr>\n",
       "    <tr>\n",
       "      <th>35</th>\n",
       "      <td>N-nitroso-nebivolol</td>\n",
       "      <td>C1CC2=C(C=CC(=C2)F)OC1C(CN(CC(C3CCC4=C(O3)C=CC...</td>\n",
       "      <td>4</td>\n",
       "      <td>1500</td>\n",
       "    </tr>\n",
       "    <tr>\n",
       "      <th>36</th>\n",
       "      <td>N-nitroso Propranolol</td>\n",
       "      <td>CC(C)N(CC(COC1=CC=CC2=CC=CC=C21)O)N=O</td>\n",
       "      <td>4</td>\n",
       "      <td>1500</td>\n",
       "    </tr>\n",
       "    <tr>\n",
       "      <th>37</th>\n",
       "      <td>N-nitroso-pseudoephedrine</td>\n",
       "      <td>CC(C(C1=CC=CC=C1)O)N(C)N=O</td>\n",
       "      <td>4</td>\n",
       "      <td>1500</td>\n",
       "    </tr>\n",
       "    <tr>\n",
       "      <th>38</th>\n",
       "      <td>N-nitroso-sotalol</td>\n",
       "      <td>CC(C)N(CC(C1=CC=C(C=C1)NS(=O)(=O)C)O)N=O</td>\n",
       "      <td>4</td>\n",
       "      <td>1500</td>\n",
       "    </tr>\n",
       "    <tr>\n",
       "      <th>39</th>\n",
       "      <td>N-nitroso-tamsulosin</td>\n",
       "      <td>CCOc1ccccc1OCCN(N=O)[C](C)Cc2ccc(OC)c(c2)[S](N...</td>\n",
       "      <td>4</td>\n",
       "      <td>1500</td>\n",
       "    </tr>\n",
       "    <tr>\n",
       "      <th>40</th>\n",
       "      <td>N-nitroso-diclofenac</td>\n",
       "      <td>C1=CC=C(C(=C1)CC(=O)O)N(C2=C(C=CC=C2Cl)Cl)N=O</td>\n",
       "      <td>5</td>\n",
       "      <td>1500</td>\n",
       "    </tr>\n",
       "    <tr>\n",
       "      <th>41</th>\n",
       "      <td>N-nitroso-benazepril</td>\n",
       "      <td>CCOC(=O)[C](CCc1ccccc1)N(N=O)[C]2CCc3ccccc3N(C...</td>\n",
       "      <td>5</td>\n",
       "      <td>1500</td>\n",
       "    </tr>\n",
       "    <tr>\n",
       "      <th>42</th>\n",
       "      <td>N-nitroso-bupropion</td>\n",
       "      <td>CC(C(=O)C1=CC(=CC=C1)Cl)N(C(C)(C)C)N=O</td>\n",
       "      <td>5</td>\n",
       "      <td>1500</td>\n",
       "    </tr>\n",
       "    <tr>\n",
       "      <th>43</th>\n",
       "      <td>N-nitroso-cilazapril</td>\n",
       "      <td>CCOC(=O)C(CCC1=CC=CC=C1)N(C2CCCN3CCCC(N3C2=O)C...</td>\n",
       "      <td>5</td>\n",
       "      <td>1500</td>\n",
       "    </tr>\n",
       "    <tr>\n",
       "      <th>44</th>\n",
       "      <td>N-nitroso-enalapril</td>\n",
       "      <td>CCOC(=O)C(CCC1=CC=CC=C1)N(C(C)C(=O)N2CCCC2C(=O...</td>\n",
       "      <td>5</td>\n",
       "      <td>1500</td>\n",
       "    </tr>\n",
       "    <tr>\n",
       "      <th>45</th>\n",
       "      <td>N-nitroso-lisinopril</td>\n",
       "      <td>NCCCC[C](N(N=O)[C](CCc1ccccc1)C(O)=O)C(=O)N2CC...</td>\n",
       "      <td>5</td>\n",
       "      <td>1500</td>\n",
       "    </tr>\n",
       "    <tr>\n",
       "      <th>46</th>\n",
       "      <td>N-nitroso-perindopril</td>\n",
       "      <td>CCC[C](N(N=O)[C](C)C(=O)N1[C](C[C@@H]2CCCC[C@H...</td>\n",
       "      <td>5</td>\n",
       "      <td>1500</td>\n",
       "    </tr>\n",
       "    <tr>\n",
       "      <th>47</th>\n",
       "      <td>N-nitroso-ramipril</td>\n",
       "      <td>CCOC(=O)[C](CCc1ccccc1)N(N=O)[C](C)C(=O)N2[C](...</td>\n",
       "      <td>5</td>\n",
       "      <td>1500</td>\n",
       "    </tr>\n",
       "    <tr>\n",
       "      <th>48</th>\n",
       "      <td>N-nitroso-desmethyl trimebutine</td>\n",
       "      <td>CCC(COC(=O)c1cc(OC)c(OC)c(OC)c1)(N(C)N=O)c2ccccc2</td>\n",
       "      <td>5</td>\n",
       "      <td>1500</td>\n",
       "    </tr>\n",
       "    <tr>\n",
       "      <th>49</th>\n",
       "      <td>N-nitroso-ketamine</td>\n",
       "      <td>CN(C1(CCCCC1=O)C2=CC=CC=C2Cl)N=O</td>\n",
       "      <td>5</td>\n",
       "      <td>1500</td>\n",
       "    </tr>\n",
       "    <tr>\n",
       "      <th>50</th>\n",
       "      <td>N-nitroso-salbutamol</td>\n",
       "      <td>CC(C)(C)N(CC(C1=CC(=C(C=C1)O)CO)O)N=O</td>\n",
       "      <td>5</td>\n",
       "      <td>1500</td>\n",
       "    </tr>\n",
       "    <tr>\n",
       "      <th>51</th>\n",
       "      <td>N-nitroso-vildagliptin</td>\n",
       "      <td>OC12CC3CC(C1)CC(C3)(C2)N(CC(=O)N4CCC[C]4C#N)N=O</td>\n",
       "      <td>5</td>\n",
       "      <td>1500</td>\n",
       "    </tr>\n",
       "  </tbody>\n",
       "</table>\n",
       "</div>"
      ],
      "text/plain": [
       "                                                 Name  \\\n",
       "0                              N-Nitroso-Orphenadrine   \n",
       "1                               N-Nitroso-betahistine   \n",
       "2                  N-nitroso-desmethyl-chloropyramine   \n",
       "3                  N-nitroso-desmethyl-tripelennamine   \n",
       "4                        P-chlorobenzylamino-pyridine   \n",
       "5                             N-nitroso-phenylephrine   \n",
       "6                                N-nitroso-rasagiline   \n",
       "7                                N-nitroso-sertraline   \n",
       "8             1-cyclopropylmethyl-4-nitrosopiperazine   \n",
       "9                       1-methyl-4-nitroso piperazine   \n",
       "10  nitroso impurity C” [N- (2,6-dimethylphenyl)-2...   \n",
       "11                                 N-nitroso-ambroxol   \n",
       "12  N-nitroso-aryl piperazine /N-nitroso-desalkyl ...   \n",
       "13                               N-nitroso-dabigatran   \n",
       "14                            N-nitroso-desloratadine   \n",
       "15                                N-nitroso-Landiolol   \n",
       "16                               N-nitroso-mirabegron   \n",
       "17                     N-nitroso-N-ethyl-valacyclovir   \n",
       "18                    N-nitroso-N-methyl-valacyclovir   \n",
       "19                               N-nitroso-piperazine   \n",
       "20                              N-nitroso-pramipexole   \n",
       "21                            N-nitroso-trimetazidine   \n",
       "22                             N-nitroso-vortioxetine   \n",
       "23                        1-nitroso-pyrrolopiperidine   \n",
       "24                             Nitroso-praziquanamine   \n",
       "25  N-nitroso-N-(2,6-dimethylphenyl)piperidine-2-c...   \n",
       "26                                 N-nitroso-atenolol   \n",
       "27                               N-nitroso-bisoprolol   \n",
       "28                               N-nitroso-bumetanide   \n",
       "29                            N-nitroso-ciprofloxacin   \n",
       "30                               N-nitroso-folic acid   \n",
       "31                                N-nitroso-labetalol   \n",
       "32                             N-nitroso-levofloxacin   \n",
       "33                               N-nitroso-metoprolol   \n",
       "34                             N-nitroso-moxifloxacin   \n",
       "35                                N-nitroso-nebivolol   \n",
       "36                              N-nitroso Propranolol   \n",
       "37                          N-nitroso-pseudoephedrine   \n",
       "38                                  N-nitroso-sotalol   \n",
       "39                               N-nitroso-tamsulosin   \n",
       "40                               N-nitroso-diclofenac   \n",
       "41                               N-nitroso-benazepril   \n",
       "42                                N-nitroso-bupropion   \n",
       "43                               N-nitroso-cilazapril   \n",
       "44                                N-nitroso-enalapril   \n",
       "45                               N-nitroso-lisinopril   \n",
       "46                              N-nitroso-perindopril   \n",
       "47                                 N-nitroso-ramipril   \n",
       "48                    N-nitroso-desmethyl trimebutine   \n",
       "49                                 N-nitroso-ketamine   \n",
       "50                               N-nitroso-salbutamol   \n",
       "51                             N-nitroso-vildagliptin   \n",
       "\n",
       "                                               Smiles CPC AI / ngday-  \n",
       "0                      CN(CCOC(c1ccccc1)c2ccccc2C)N=O   1          18  \n",
       "1                                CN(CCC1=CC=CC=N1)N=O   1          18  \n",
       "2                   CN(CCN(Cc1ccc(Cl)cc1)c2ccccn2)N=O   1          18  \n",
       "3                       CN(CCN(Cc1ccccc1)c2ccccn2)N=O   1          18  \n",
       "4                         Clc1ccc(CN(N=O)c2ccccn2)cc1   2         100  \n",
       "5                           CN(C[C](O)c1cccc(O)c1)N=O   2         100  \n",
       "6                           O=NN(CC#C)[C]1CCc2ccccc12   2         100  \n",
       "7         CN(N=O)[C]1CC[C](c2ccc(Cl)c(Cl)c2)c3ccccc13   2         100  \n",
       "8                                 O=NN1CCN(CC1)CC2CC2   3         400  \n",
       "9                                      CN1CCN(CC1)N=O   3         400  \n",
       "10                   Cc1cccc(C)c1NC(=O)CN2CCN(CC2)N=O   3         400  \n",
       "11           C1CC(CCC1N(CC2=C(C(=CC(=C2)Br)Br)N)N=O)O   3         400  \n",
       "12                O=NN1CCN(CC1)C2=Nc3ccccc3Sc4ccccc24   3         400  \n",
       "13  Cn1c(CN(N=O)c2ccc(cc2)C(N)=N)nc3cc(ccc13)C(=O)...   3         400  \n",
       "14  C1CC2=C(C=CC(=C2)Cl)C(=C3CCN(CC3)N=O)C4=C1C=CC=N4   3         400  \n",
       "15  CC1(C)OC[C](COC(=O)CCc2ccc(OC[C](O)CN(CCNC(=O)...   3         400  \n",
       "16  Nc1scc(CC(=O)Nc2ccc(CCN(C[C](O)c3ccccc3)N=O)cc...   3         400  \n",
       "17  CCN(N=O)[C](C(C)C)C(=O)OCCOCn1cnc2C(=O)NC(=Nc12)N   3         400  \n",
       "18   CC(C)[C](N(C)N=O)C(=O)OCCOCn1cnc2C(=O)NC(=Nc12)N   3         400  \n",
       "19                                      C1CN(CCN1)N=O   3         400  \n",
       "20                        CCCN(N=O)[C]1CCc2nc(N)sc2C1   3         400  \n",
       "21              COC1=C(C(=C(C=C1)CN2CCN(CC2)N=O)OC)OC   3         400  \n",
       "22               Cc1ccc(Sc2ccccc2N3CCN(CC3)N=O)c(C)c1   3         400  \n",
       "23                                   O=NN1CCCC2CNCC12   4        1500  \n",
       "24                      O=NN1CC2N(CCc3ccccc23)C(=O)C1   4        1500  \n",
       "25                      Cc1cccc(C)c1NC(=O)C2CCCCN2N=O   4        1500  \n",
       "26             CC(C)N(CC(COC1=CC=C(C=C1)CC(=O)N)O)N=O   4        1500  \n",
       "27             CC(C)OCCOCc1ccc(OCC(O)CN(N=O)C(C)C)cc1   4        1500  \n",
       "28  CCCCN(C1=C(C(=CC(=C1)C(=O)O)S(=O)(=O)N)OC2=CC=...   4        1500  \n",
       "29  C1CC1N2C=C(C(=O)C3=CC(=C(C=C32)N4CCN(CC4)N=O)F...   4        1500  \n",
       "30  C1=CC(=CC=C1C(=O)NC(CCC(=O)O)C(=O)O)N(CC2=CN=C...   4        1500  \n",
       "31       CC(CCc1ccccc1)N(CC(O)c2ccc(O)c(c2)C(N)=O)N=O   4        1500  \n",
       "32  CC1COC2=C3N1C=C(C(=O)C3=CC(=C2N4CCN(CC4)N=O)F)...   4        1500  \n",
       "33                CC(C)N(CC(COC1=CC=C(C=C1)CCOC)O)N=O   4        1500  \n",
       "34  COc1c(N2C[C@@H]3CCCN(N=O)[C@@H]3C2)c(F)cc4C(=O...   4        1500  \n",
       "35  C1CC2=C(C=CC(=C2)F)OC1C(CN(CC(C3CCC4=C(O3)C=CC...   4        1500  \n",
       "36              CC(C)N(CC(COC1=CC=CC2=CC=CC=C21)O)N=O   4        1500  \n",
       "37                         CC(C(C1=CC=CC=C1)O)N(C)N=O   4        1500  \n",
       "38           CC(C)N(CC(C1=CC=C(C=C1)NS(=O)(=O)C)O)N=O   4        1500  \n",
       "39  CCOc1ccccc1OCCN(N=O)[C](C)Cc2ccc(OC)c(c2)[S](N...   4        1500  \n",
       "40      C1=CC=C(C(=C1)CC(=O)O)N(C2=C(C=CC=C2Cl)Cl)N=O   5        1500  \n",
       "41  CCOC(=O)[C](CCc1ccccc1)N(N=O)[C]2CCc3ccccc3N(C...   5        1500  \n",
       "42             CC(C(=O)C1=CC(=CC=C1)Cl)N(C(C)(C)C)N=O   5        1500  \n",
       "43  CCOC(=O)C(CCC1=CC=CC=C1)N(C2CCCN3CCCC(N3C2=O)C...   5        1500  \n",
       "44  CCOC(=O)C(CCC1=CC=CC=C1)N(C(C)C(=O)N2CCCC2C(=O...   5        1500  \n",
       "45  NCCCC[C](N(N=O)[C](CCc1ccccc1)C(O)=O)C(=O)N2CC...   5        1500  \n",
       "46  CCC[C](N(N=O)[C](C)C(=O)N1[C](C[C@@H]2CCCC[C@H...   5        1500  \n",
       "47  CCOC(=O)[C](CCc1ccccc1)N(N=O)[C](C)C(=O)N2[C](...   5        1500  \n",
       "48  CCC(COC(=O)c1cc(OC)c(OC)c(OC)c1)(N(C)N=O)c2ccccc2   5        1500  \n",
       "49                   CN(C1(CCCCC1=O)C2=CC=CC=C2Cl)N=O   5        1500  \n",
       "50              CC(C)(C)N(CC(C1=CC(=C(C=C1)O)CO)O)N=O   5        1500  \n",
       "51    OC12CC3CC(C1)CC(C3)(C2)N(CC(=O)N4CCC[C]4C#N)N=O   5        1500  "
      ]
     },
     "execution_count": 6,
     "metadata": {},
     "output_type": "execute_result"
    }
   ],
   "source": [
    "df = pd.DataFrame(dictEMA)\n",
    "df"
   ]
  },
  {
   "cell_type": "code",
   "execution_count": 1,
   "metadata": {},
   "outputs": [],
   "source": [
    "from PyQt5 import *\n",
    "from rdkit import Chem\n",
    "from PIL import Image\n",
    "from rdkit.Chem.Draw import MolToImage\n",
    "from io import BytesIO, BufferedReader\n",
    "from PyQt5.QtGui import QImage, QPixmap"
   ]
  },
  {
   "cell_type": "code",
   "execution_count": 2,
   "metadata": {},
   "outputs": [],
   "source": [
    "import pandas as pd\n"
   ]
  },
  {
   "cell_type": "code",
   "execution_count": 3,
   "metadata": {},
   "outputs": [
    {
     "data": {
      "text/plain": [
       "'CCOC(=O)C(CCC1=CC=CC=C1)NC(C)C(=O)N2CCCC2C(=O)O'"
      ]
     },
     "execution_count": 3,
     "metadata": {},
     "output_type": "execute_result"
    }
   ],
   "source": [
    "smiles = 'CCOC(=O)C(CCC1=CC=CC=C1)NC(C)C(=O)N2CCCC2C(=O)O'\n",
    "smiles"
   ]
  },
  {
   "cell_type": "code",
   "execution_count": 4,
   "metadata": {},
   "outputs": [
    {
     "data": {
      "image/png": "[encoded data removed]",
      "text/plain": [
       "<rdkit.Chem.rdchem.Mol at 0x28807ec9430>"
      ]
     },
     "execution_count": 4,
     "metadata": {},
     "output_type": "execute_result"
    }
   ],
   "source": [
    "image = Chem.MolFromSmiles(smiles)\n",
    "image"
   ]
  },
  {
   "cell_type": "code",
   "execution_count": 7,
   "metadata": {},
   "outputs": [],
   "source": [
    "x = 0\n",
    "if x:\n",
    "    print(x)"
   ]
  },
  {
   "cell_type": "code",
   "execution_count": 8,
   "metadata": {},
   "outputs": [
    {
     "data": {
      "text/html": [
       "<div>\n",
       "<style scoped>\n",
       "    .dataframe tbody tr th:only-of-type {\n",
       "        vertical-align: middle;\n",
       "    }\n",
       "\n",
       "    .dataframe tbody tr th {\n",
       "        vertical-align: top;\n",
       "    }\n",
       "\n",
       "    .dataframe thead th {\n",
       "        text-align: right;\n",
       "    }\n",
       "</style>\n",
       "<table border=\"1\" class=\"dataframe\">\n",
       "  <thead>\n",
       "    <tr style=\"text-align: right;\">\n",
       "      <th></th>\n",
       "      <th>Name</th>\n",
       "      <th>Smiles</th>\n",
       "      <th>CPC</th>\n",
       "      <th>AI / ngday-</th>\n",
       "    </tr>\n",
       "  </thead>\n",
       "  <tbody>\n",
       "    <tr>\n",
       "      <th>0</th>\n",
       "      <td>N-Nitroso-Orphenadrine</td>\n",
       "      <td>CN(CCOC(c1ccccc1)c2ccccc2C)N=O</td>\n",
       "      <td>1</td>\n",
       "      <td>18</td>\n",
       "    </tr>\n",
       "    <tr>\n",
       "      <th>1</th>\n",
       "      <td>N-Nitroso-betahistine</td>\n",
       "      <td>CN(CCC1=CC=CC=N1)N=O</td>\n",
       "      <td>1</td>\n",
       "      <td>18</td>\n",
       "    </tr>\n",
       "    <tr>\n",
       "      <th>2</th>\n",
       "      <td>N-nitroso-desmethyl-chloropyramine</td>\n",
       "      <td>CN(CCN(Cc1ccc(Cl)cc1)c2ccccn2)N=O</td>\n",
       "      <td>1</td>\n",
       "      <td>18</td>\n",
       "    </tr>\n",
       "    <tr>\n",
       "      <th>3</th>\n",
       "      <td>N-nitroso-desmethyl-tripelennamine</td>\n",
       "      <td>CN(CCN(Cc1ccccc1)c2ccccn2)N=O</td>\n",
       "      <td>1</td>\n",
       "      <td>18</td>\n",
       "    </tr>\n",
       "    <tr>\n",
       "      <th>4</th>\n",
       "      <td>P-chlorobenzylamino-pyridine</td>\n",
       "      <td>Clc1ccc(CN(N=O)c2ccccn2)cc1</td>\n",
       "      <td>2</td>\n",
       "      <td>100</td>\n",
       "    </tr>\n",
       "    <tr>\n",
       "      <th>5</th>\n",
       "      <td>N-nitroso-phenylephrine</td>\n",
       "      <td>CN(C[C](O)c1cccc(O)c1)N=O</td>\n",
       "      <td>2</td>\n",
       "      <td>100</td>\n",
       "    </tr>\n",
       "    <tr>\n",
       "      <th>6</th>\n",
       "      <td>N-nitroso-rasagiline</td>\n",
       "      <td>O=NN(CC#C)[C]1CCc2ccccc12</td>\n",
       "      <td>2</td>\n",
       "      <td>100</td>\n",
       "    </tr>\n",
       "    <tr>\n",
       "      <th>7</th>\n",
       "      <td>N-nitroso-sertraline</td>\n",
       "      <td>CN(N=O)[C]1CC[C](c2ccc(Cl)c(Cl)c2)c3ccccc13</td>\n",
       "      <td>2</td>\n",
       "      <td>100</td>\n",
       "    </tr>\n",
       "    <tr>\n",
       "      <th>8</th>\n",
       "      <td>1-cyclopropylmethyl-4-nitrosopiperazine</td>\n",
       "      <td>O=NN1CCN(CC1)CC2CC2</td>\n",
       "      <td>3</td>\n",
       "      <td>400</td>\n",
       "    </tr>\n",
       "    <tr>\n",
       "      <th>9</th>\n",
       "      <td>1-methyl-4-nitroso piperazine</td>\n",
       "      <td>CN1CCN(CC1)N=O</td>\n",
       "      <td>3</td>\n",
       "      <td>400</td>\n",
       "    </tr>\n",
       "    <tr>\n",
       "      <th>10</th>\n",
       "      <td>nitroso impurity C” [N- (2,6-dimethylphenyl)-2...</td>\n",
       "      <td>Cc1cccc(C)c1NC(=O)CN2CCN(CC2)N=O</td>\n",
       "      <td>3</td>\n",
       "      <td>400</td>\n",
       "    </tr>\n",
       "    <tr>\n",
       "      <th>11</th>\n",
       "      <td>N-nitroso-ambroxol</td>\n",
       "      <td>C1CC(CCC1N(CC2=C(C(=CC(=C2)Br)Br)N)N=O)O</td>\n",
       "      <td>3</td>\n",
       "      <td>400</td>\n",
       "    </tr>\n",
       "    <tr>\n",
       "      <th>12</th>\n",
       "      <td>N-nitroso-aryl piperazine /N-nitroso-desalkyl ...</td>\n",
       "      <td>O=NN1CCN(CC1)C2=Nc3ccccc3Sc4ccccc24</td>\n",
       "      <td>3</td>\n",
       "      <td>400</td>\n",
       "    </tr>\n",
       "    <tr>\n",
       "      <th>13</th>\n",
       "      <td>N-nitroso-dabigatran</td>\n",
       "      <td>Cn1c(CN(N=O)c2ccc(cc2)C(N)=N)nc3cc(ccc13)C(=O)...</td>\n",
       "      <td>3</td>\n",
       "      <td>400</td>\n",
       "    </tr>\n",
       "    <tr>\n",
       "      <th>14</th>\n",
       "      <td>N-nitroso-desloratadine</td>\n",
       "      <td>C1CC2=C(C=CC(=C2)Cl)C(=C3CCN(CC3)N=O)C4=C1C=CC=N4</td>\n",
       "      <td>3</td>\n",
       "      <td>400</td>\n",
       "    </tr>\n",
       "    <tr>\n",
       "      <th>15</th>\n",
       "      <td>N-nitroso-Landiolol</td>\n",
       "      <td>CC1(C)OC[C](COC(=O)CCc2ccc(OC[C](O)CN(CCNC(=O)...</td>\n",
       "      <td>3</td>\n",
       "      <td>400</td>\n",
       "    </tr>\n",
       "    <tr>\n",
       "      <th>16</th>\n",
       "      <td>N-nitroso-mirabegron</td>\n",
       "      <td>Nc1scc(CC(=O)Nc2ccc(CCN(C[C](O)c3ccccc3)N=O)cc...</td>\n",
       "      <td>3</td>\n",
       "      <td>400</td>\n",
       "    </tr>\n",
       "    <tr>\n",
       "      <th>17</th>\n",
       "      <td>N-nitroso-N-ethyl-valacyclovir</td>\n",
       "      <td>CCN(N=O)[C](C(C)C)C(=O)OCCOCn1cnc2C(=O)NC(=Nc12)N</td>\n",
       "      <td>3</td>\n",
       "      <td>400</td>\n",
       "    </tr>\n",
       "    <tr>\n",
       "      <th>18</th>\n",
       "      <td>N-nitroso-N-methyl-valacyclovir</td>\n",
       "      <td>CC(C)[C](N(C)N=O)C(=O)OCCOCn1cnc2C(=O)NC(=Nc12)N</td>\n",
       "      <td>3</td>\n",
       "      <td>400</td>\n",
       "    </tr>\n",
       "    <tr>\n",
       "      <th>19</th>\n",
       "      <td>N-nitroso-piperazine</td>\n",
       "      <td>C1CN(CCN1)N=O</td>\n",
       "      <td>3</td>\n",
       "      <td>400</td>\n",
       "    </tr>\n",
       "    <tr>\n",
       "      <th>20</th>\n",
       "      <td>N-nitroso-pramipexole</td>\n",
       "      <td>CCCN(N=O)[C]1CCc2nc(N)sc2C1</td>\n",
       "      <td>3</td>\n",
       "      <td>400</td>\n",
       "    </tr>\n",
       "    <tr>\n",
       "      <th>21</th>\n",
       "      <td>N-nitroso-trimetazidine</td>\n",
       "      <td>COC1=C(C(=C(C=C1)CN2CCN(CC2)N=O)OC)OC</td>\n",
       "      <td>3</td>\n",
       "      <td>400</td>\n",
       "    </tr>\n",
       "    <tr>\n",
       "      <th>22</th>\n",
       "      <td>N-nitroso-vortioxetine</td>\n",
       "      <td>Cc1ccc(Sc2ccccc2N3CCN(CC3)N=O)c(C)c1</td>\n",
       "      <td>3</td>\n",
       "      <td>400</td>\n",
       "    </tr>\n",
       "    <tr>\n",
       "      <th>23</th>\n",
       "      <td>1-nitroso-pyrrolopiperidine</td>\n",
       "      <td>O=NN1CCCC2CNCC12</td>\n",
       "      <td>4</td>\n",
       "      <td>1500</td>\n",
       "    </tr>\n",
       "    <tr>\n",
       "      <th>24</th>\n",
       "      <td>Nitroso-praziquanamine</td>\n",
       "      <td>O=NN1CC2N(CCc3ccccc23)C(=O)C1</td>\n",
       "      <td>4</td>\n",
       "      <td>1500</td>\n",
       "    </tr>\n",
       "    <tr>\n",
       "      <th>25</th>\n",
       "      <td>N-nitroso-N-(2,6-dimethylphenyl)piperidine-2-c...</td>\n",
       "      <td>Cc1cccc(C)c1NC(=O)C2CCCCN2N=O</td>\n",
       "      <td>4</td>\n",
       "      <td>1500</td>\n",
       "    </tr>\n",
       "    <tr>\n",
       "      <th>26</th>\n",
       "      <td>N-nitroso-atenolol</td>\n",
       "      <td>CC(C)N(CC(COC1=CC=C(C=C1)CC(=O)N)O)N=O</td>\n",
       "      <td>4</td>\n",
       "      <td>1500</td>\n",
       "    </tr>\n",
       "    <tr>\n",
       "      <th>27</th>\n",
       "      <td>N-nitroso-bisoprolol</td>\n",
       "      <td>CC(C)OCCOCc1ccc(OCC(O)CN(N=O)C(C)C)cc1</td>\n",
       "      <td>4</td>\n",
       "      <td>1500</td>\n",
       "    </tr>\n",
       "    <tr>\n",
       "      <th>28</th>\n",
       "      <td>N-nitroso-bumetanide</td>\n",
       "      <td>CCCCN(C1=C(C(=CC(=C1)C(=O)O)S(=O)(=O)N)OC2=CC=...</td>\n",
       "      <td>4</td>\n",
       "      <td>1500</td>\n",
       "    </tr>\n",
       "    <tr>\n",
       "      <th>29</th>\n",
       "      <td>N-nitroso-ciprofloxacin</td>\n",
       "      <td>C1CC1N2C=C(C(=O)C3=CC(=C(C=C32)N4CCN(CC4)N=O)F...</td>\n",
       "      <td>4</td>\n",
       "      <td>1500</td>\n",
       "    </tr>\n",
       "    <tr>\n",
       "      <th>30</th>\n",
       "      <td>N-nitroso-folic acid</td>\n",
       "      <td>C1=CC(=CC=C1C(=O)NC(CCC(=O)O)C(=O)O)N(CC2=CN=C...</td>\n",
       "      <td>4</td>\n",
       "      <td>1500</td>\n",
       "    </tr>\n",
       "    <tr>\n",
       "      <th>31</th>\n",
       "      <td>N-nitroso-labetalol</td>\n",
       "      <td>CC(CCc1ccccc1)N(CC(O)c2ccc(O)c(c2)C(N)=O)N=O</td>\n",
       "      <td>4</td>\n",
       "      <td>1500</td>\n",
       "    </tr>\n",
       "    <tr>\n",
       "      <th>32</th>\n",
       "      <td>N-nitroso-levofloxacin</td>\n",
       "      <td>CC1COC2=C3N1C=C(C(=O)C3=CC(=C2N4CCN(CC4)N=O)F)...</td>\n",
       "      <td>4</td>\n",
       "      <td>1500</td>\n",
       "    </tr>\n",
       "    <tr>\n",
       "      <th>33</th>\n",
       "      <td>N-nitroso-metoprolol</td>\n",
       "      <td>CC(C)N(CC(COC1=CC=C(C=C1)CCOC)O)N=O</td>\n",
       "      <td>4</td>\n",
       "      <td>1500</td>\n",
       "    </tr>\n",
       "    <tr>\n",
       "      <th>34</th>\n",
       "      <td>N-nitroso-moxifloxacin</td>\n",
       "      <td>COc1c(N2C[C@@H]3CCCN(N=O)[C@@H]3C2)c(F)cc4C(=O...</td>\n",
       "      <td>4</td>\n",
       "      <td>1500</td>\n",
       "    </tr>\n",
       "    <tr>\n",
       "      <th>35</th>\n",
       "      <td>N-nitroso-nebivolol</td>\n",
       "      <td>C1CC2=C(C=CC(=C2)F)OC1C(CN(CC(C3CCC4=C(O3)C=CC...</td>\n",
       "      <td>4</td>\n",
       "      <td>1500</td>\n",
       "    </tr>\n",
       "    <tr>\n",
       "      <th>36</th>\n",
       "      <td>N-nitroso Propranolol</td>\n",
       "      <td>CC(C)N(CC(COC1=CC=CC2=CC=CC=C21)O)N=O</td>\n",
       "      <td>4</td>\n",
       "      <td>1500</td>\n",
       "    </tr>\n",
       "    <tr>\n",
       "      <th>37</th>\n",
       "      <td>N-nitroso-pseudoephedrine</td>\n",
       "      <td>CC(C(C1=CC=CC=C1)O)N(C)N=O</td>\n",
       "      <td>4</td>\n",
       "      <td>1500</td>\n",
       "    </tr>\n",
       "    <tr>\n",
       "      <th>38</th>\n",
       "      <td>N-nitroso-sotalol</td>\n",
       "      <td>CC(C)N(CC(C1=CC=C(C=C1)NS(=O)(=O)C)O)N=O</td>\n",
       "      <td>4</td>\n",
       "      <td>1500</td>\n",
       "    </tr>\n",
       "    <tr>\n",
       "      <th>39</th>\n",
       "      <td>N-nitroso-tamsulosin</td>\n",
       "      <td>CCOc1ccccc1OCCN(N=O)[C](C)Cc2ccc(OC)c(c2)[S](N...</td>\n",
       "      <td>4</td>\n",
       "      <td>1500</td>\n",
       "    </tr>\n",
       "    <tr>\n",
       "      <th>40</th>\n",
       "      <td>N-nitroso-diclofenac</td>\n",
       "      <td>C1=CC=C(C(=C1)CC(=O)O)N(C2=C(C=CC=C2Cl)Cl)N=O</td>\n",
       "      <td>5</td>\n",
       "      <td>1500</td>\n",
       "    </tr>\n",
       "    <tr>\n",
       "      <th>41</th>\n",
       "      <td>N-nitroso-benazepril</td>\n",
       "      <td>CCOC(=O)[C](CCc1ccccc1)N(N=O)[C]2CCc3ccccc3N(C...</td>\n",
       "      <td>5</td>\n",
       "      <td>1500</td>\n",
       "    </tr>\n",
       "    <tr>\n",
       "      <th>42</th>\n",
       "      <td>N-nitroso-bupropion</td>\n",
       "      <td>CC(C(=O)C1=CC(=CC=C1)Cl)N(C(C)(C)C)N=O</td>\n",
       "      <td>5</td>\n",
       "      <td>1500</td>\n",
       "    </tr>\n",
       "    <tr>\n",
       "      <th>43</th>\n",
       "      <td>N-nitroso-cilazapril</td>\n",
       "      <td>CCOC(=O)C(CCC1=CC=CC=C1)N(C2CCCN3CCCC(N3C2=O)C...</td>\n",
       "      <td>5</td>\n",
       "      <td>1500</td>\n",
       "    </tr>\n",
       "    <tr>\n",
       "      <th>44</th>\n",
       "      <td>N-nitroso-enalapril</td>\n",
       "      <td>CCOC(=O)C(CCC1=CC=CC=C1)N(C(C)C(=O)N2CCCC2C(=O...</td>\n",
       "      <td>5</td>\n",
       "      <td>1500</td>\n",
       "    </tr>\n",
       "    <tr>\n",
       "      <th>45</th>\n",
       "      <td>N-nitroso-lisinopril</td>\n",
       "      <td>NCCCC[C](N(N=O)[C](CCc1ccccc1)C(O)=O)C(=O)N2CC...</td>\n",
       "      <td>5</td>\n",
       "      <td>1500</td>\n",
       "    </tr>\n",
       "    <tr>\n",
       "      <th>46</th>\n",
       "      <td>N-nitroso-perindopril</td>\n",
       "      <td>CCC[C](N(N=O)[C](C)C(=O)N1[C](C[C@@H]2CCCC[C@H...</td>\n",
       "      <td>5</td>\n",
       "      <td>1500</td>\n",
       "    </tr>\n",
       "    <tr>\n",
       "      <th>47</th>\n",
       "      <td>N-nitroso-ramipril</td>\n",
       "      <td>CCOC(=O)[C](CCc1ccccc1)N(N=O)[C](C)C(=O)N2[C](...</td>\n",
       "      <td>5</td>\n",
       "      <td>1500</td>\n",
       "    </tr>\n",
       "    <tr>\n",
       "      <th>48</th>\n",
       "      <td>N-nitroso-desmethyl trimebutine</td>\n",
       "      <td>CCC(COC(=O)c1cc(OC)c(OC)c(OC)c1)(N(C)N=O)c2ccccc2</td>\n",
       "      <td>5</td>\n",
       "      <td>1500</td>\n",
       "    </tr>\n",
       "    <tr>\n",
       "      <th>49</th>\n",
       "      <td>N-nitroso-ketamine</td>\n",
       "      <td>CN(C1(CCCCC1=O)C2=CC=CC=C2Cl)N=O</td>\n",
       "      <td>5</td>\n",
       "      <td>1500</td>\n",
       "    </tr>\n",
       "    <tr>\n",
       "      <th>50</th>\n",
       "      <td>N-nitroso-salbutamol</td>\n",
       "      <td>CC(C)(C)N(CC(C1=CC(=C(C=C1)O)CO)O)N=O</td>\n",
       "      <td>5</td>\n",
       "      <td>1500</td>\n",
       "    </tr>\n",
       "    <tr>\n",
       "      <th>51</th>\n",
       "      <td>N-nitroso-vildagliptin</td>\n",
       "      <td>OC12CC3CC(C1)CC(C3)(C2)N(CC(=O)N4CCC[C]4C#N)N=O</td>\n",
       "      <td>5</td>\n",
       "      <td>1500</td>\n",
       "    </tr>\n",
       "  </tbody>\n",
       "</table>\n",
       "</div>"
      ],
      "text/plain": [
       "                                                 Name  \\\n",
       "0                              N-Nitroso-Orphenadrine   \n",
       "1                               N-Nitroso-betahistine   \n",
       "2                  N-nitroso-desmethyl-chloropyramine   \n",
       "3                  N-nitroso-desmethyl-tripelennamine   \n",
       "4                        P-chlorobenzylamino-pyridine   \n",
       "5                             N-nitroso-phenylephrine   \n",
       "6                                N-nitroso-rasagiline   \n",
       "7                                N-nitroso-sertraline   \n",
       "8             1-cyclopropylmethyl-4-nitrosopiperazine   \n",
       "9                       1-methyl-4-nitroso piperazine   \n",
       "10  nitroso impurity C” [N- (2,6-dimethylphenyl)-2...   \n",
       "11                                 N-nitroso-ambroxol   \n",
       "12  N-nitroso-aryl piperazine /N-nitroso-desalkyl ...   \n",
       "13                               N-nitroso-dabigatran   \n",
       "14                            N-nitroso-desloratadine   \n",
       "15                                N-nitroso-Landiolol   \n",
       "16                               N-nitroso-mirabegron   \n",
       "17                     N-nitroso-N-ethyl-valacyclovir   \n",
       "18                    N-nitroso-N-methyl-valacyclovir   \n",
       "19                               N-nitroso-piperazine   \n",
       "20                              N-nitroso-pramipexole   \n",
       "21                            N-nitroso-trimetazidine   \n",
       "22                             N-nitroso-vortioxetine   \n",
       "23                        1-nitroso-pyrrolopiperidine   \n",
       "24                             Nitroso-praziquanamine   \n",
       "25  N-nitroso-N-(2,6-dimethylphenyl)piperidine-2-c...   \n",
       "26                                 N-nitroso-atenolol   \n",
       "27                               N-nitroso-bisoprolol   \n",
       "28                               N-nitroso-bumetanide   \n",
       "29                            N-nitroso-ciprofloxacin   \n",
       "30                               N-nitroso-folic acid   \n",
       "31                                N-nitroso-labetalol   \n",
       "32                             N-nitroso-levofloxacin   \n",
       "33                               N-nitroso-metoprolol   \n",
       "34                             N-nitroso-moxifloxacin   \n",
       "35                                N-nitroso-nebivolol   \n",
       "36                              N-nitroso Propranolol   \n",
       "37                          N-nitroso-pseudoephedrine   \n",
       "38                                  N-nitroso-sotalol   \n",
       "39                               N-nitroso-tamsulosin   \n",
       "40                               N-nitroso-diclofenac   \n",
       "41                               N-nitroso-benazepril   \n",
       "42                                N-nitroso-bupropion   \n",
       "43                               N-nitroso-cilazapril   \n",
       "44                                N-nitroso-enalapril   \n",
       "45                               N-nitroso-lisinopril   \n",
       "46                              N-nitroso-perindopril   \n",
       "47                                 N-nitroso-ramipril   \n",
       "48                    N-nitroso-desmethyl trimebutine   \n",
       "49                                 N-nitroso-ketamine   \n",
       "50                               N-nitroso-salbutamol   \n",
       "51                             N-nitroso-vildagliptin   \n",
       "\n",
       "                                               Smiles  CPC  AI / ngday-  \n",
       "0                      CN(CCOC(c1ccccc1)c2ccccc2C)N=O    1           18  \n",
       "1                                CN(CCC1=CC=CC=N1)N=O    1           18  \n",
       "2                   CN(CCN(Cc1ccc(Cl)cc1)c2ccccn2)N=O    1           18  \n",
       "3                       CN(CCN(Cc1ccccc1)c2ccccn2)N=O    1           18  \n",
       "4                         Clc1ccc(CN(N=O)c2ccccn2)cc1    2          100  \n",
       "5                           CN(C[C](O)c1cccc(O)c1)N=O    2          100  \n",
       "6                           O=NN(CC#C)[C]1CCc2ccccc12    2          100  \n",
       "7         CN(N=O)[C]1CC[C](c2ccc(Cl)c(Cl)c2)c3ccccc13    2          100  \n",
       "8                                 O=NN1CCN(CC1)CC2CC2    3          400  \n",
       "9                                      CN1CCN(CC1)N=O    3          400  \n",
       "10                   Cc1cccc(C)c1NC(=O)CN2CCN(CC2)N=O    3          400  \n",
       "11           C1CC(CCC1N(CC2=C(C(=CC(=C2)Br)Br)N)N=O)O    3          400  \n",
       "12                O=NN1CCN(CC1)C2=Nc3ccccc3Sc4ccccc24    3          400  \n",
       "13  Cn1c(CN(N=O)c2ccc(cc2)C(N)=N)nc3cc(ccc13)C(=O)...    3          400  \n",
       "14  C1CC2=C(C=CC(=C2)Cl)C(=C3CCN(CC3)N=O)C4=C1C=CC=N4    3          400  \n",
       "15  CC1(C)OC[C](COC(=O)CCc2ccc(OC[C](O)CN(CCNC(=O)...    3          400  \n",
       "16  Nc1scc(CC(=O)Nc2ccc(CCN(C[C](O)c3ccccc3)N=O)cc...    3          400  \n",
       "17  CCN(N=O)[C](C(C)C)C(=O)OCCOCn1cnc2C(=O)NC(=Nc12)N    3          400  \n",
       "18   CC(C)[C](N(C)N=O)C(=O)OCCOCn1cnc2C(=O)NC(=Nc12)N    3          400  \n",
       "19                                      C1CN(CCN1)N=O    3          400  \n",
       "20                        CCCN(N=O)[C]1CCc2nc(N)sc2C1    3          400  \n",
       "21              COC1=C(C(=C(C=C1)CN2CCN(CC2)N=O)OC)OC    3          400  \n",
       "22               Cc1ccc(Sc2ccccc2N3CCN(CC3)N=O)c(C)c1    3          400  \n",
       "23                                   O=NN1CCCC2CNCC12    4         1500  \n",
       "24                      O=NN1CC2N(CCc3ccccc23)C(=O)C1    4         1500  \n",
       "25                      Cc1cccc(C)c1NC(=O)C2CCCCN2N=O    4         1500  \n",
       "26             CC(C)N(CC(COC1=CC=C(C=C1)CC(=O)N)O)N=O    4         1500  \n",
       "27             CC(C)OCCOCc1ccc(OCC(O)CN(N=O)C(C)C)cc1    4         1500  \n",
       "28  CCCCN(C1=C(C(=CC(=C1)C(=O)O)S(=O)(=O)N)OC2=CC=...    4         1500  \n",
       "29  C1CC1N2C=C(C(=O)C3=CC(=C(C=C32)N4CCN(CC4)N=O)F...    4         1500  \n",
       "30  C1=CC(=CC=C1C(=O)NC(CCC(=O)O)C(=O)O)N(CC2=CN=C...    4         1500  \n",
       "31       CC(CCc1ccccc1)N(CC(O)c2ccc(O)c(c2)C(N)=O)N=O    4         1500  \n",
       "32  CC1COC2=C3N1C=C(C(=O)C3=CC(=C2N4CCN(CC4)N=O)F)...    4         1500  \n",
       "33                CC(C)N(CC(COC1=CC=C(C=C1)CCOC)O)N=O    4         1500  \n",
       "34  COc1c(N2C[C@@H]3CCCN(N=O)[C@@H]3C2)c(F)cc4C(=O...    4         1500  \n",
       "35  C1CC2=C(C=CC(=C2)F)OC1C(CN(CC(C3CCC4=C(O3)C=CC...    4         1500  \n",
       "36              CC(C)N(CC(COC1=CC=CC2=CC=CC=C21)O)N=O    4         1500  \n",
       "37                         CC(C(C1=CC=CC=C1)O)N(C)N=O    4         1500  \n",
       "38           CC(C)N(CC(C1=CC=C(C=C1)NS(=O)(=O)C)O)N=O    4         1500  \n",
       "39  CCOc1ccccc1OCCN(N=O)[C](C)Cc2ccc(OC)c(c2)[S](N...    4         1500  \n",
       "40      C1=CC=C(C(=C1)CC(=O)O)N(C2=C(C=CC=C2Cl)Cl)N=O    5         1500  \n",
       "41  CCOC(=O)[C](CCc1ccccc1)N(N=O)[C]2CCc3ccccc3N(C...    5         1500  \n",
       "42             CC(C(=O)C1=CC(=CC=C1)Cl)N(C(C)(C)C)N=O    5         1500  \n",
       "43  CCOC(=O)C(CCC1=CC=CC=C1)N(C2CCCN3CCCC(N3C2=O)C...    5         1500  \n",
       "44  CCOC(=O)C(CCC1=CC=CC=C1)N(C(C)C(=O)N2CCCC2C(=O...    5         1500  \n",
       "45  NCCCC[C](N(N=O)[C](CCc1ccccc1)C(O)=O)C(=O)N2CC...    5         1500  \n",
       "46  CCC[C](N(N=O)[C](C)C(=O)N1[C](C[C@@H]2CCCC[C@H...    5         1500  \n",
       "47  CCOC(=O)[C](CCc1ccccc1)N(N=O)[C](C)C(=O)N2[C](...    5         1500  \n",
       "48  CCC(COC(=O)c1cc(OC)c(OC)c(OC)c1)(N(C)N=O)c2ccccc2    5         1500  \n",
       "49                   CN(C1(CCCCC1=O)C2=CC=CC=C2Cl)N=O    5         1500  \n",
       "50              CC(C)(C)N(CC(C1=CC(=C(C=C1)O)CO)O)N=O    5         1500  \n",
       "51    OC12CC3CC(C1)CC(C3)(C2)N(CC(=O)N4CCC[C]4C#N)N=O    5         1500  "
      ]
     },
     "execution_count": 8,
     "metadata": {},
     "output_type": "execute_result"
    }
   ],
   "source": [
    "df = pd.read_excel('database.xlsx')\n",
    "df"
   ]
  },
  {
   "cell_type": "code",
   "execution_count": 9,
   "metadata": {},
   "outputs": [
    {
     "data": {
      "image/png": "[encoded data removed]",
      "text/plain": [
       "<rdkit.Chem.rdchem.Mol at 0x288089f7040>"
      ]
     },
     "execution_count": 9,
     "metadata": {},
     "output_type": "execute_result"
    }
   ],
   "source": [
    "pattern = Chem.MolFromSmarts(\"[#7]-[#7]=[#8]\")\n",
    "pattern"
   ]
  },
  {
   "cell_type": "code",
   "execution_count": 11,
   "metadata": {},
   "outputs": [],
   "source": [
    "smiles = \"C(N(C)N=O)(C)C\"\n",
    "mol = Chem.MolFromSmiles(smiles)"
   ]
  },
  {
   "cell_type": "code",
   "execution_count": 20,
   "metadata": {},
   "outputs": [
    {
     "data": {
      "text/plain": [
       "(1, 3, 4)"
      ]
     },
     "execution_count": 20,
     "metadata": {},
     "output_type": "execute_result"
    }
   ],
   "source": [
    "substructure_match = mol.GetSubstructMatch(pattern)\n",
    "substructure_match"
   ]
  },
  {
   "cell_type": "code",
   "execution_count": 18,
   "metadata": {},
   "outputs": [
    {
     "data": {
      "text/plain": [
       "()"
      ]
     },
     "execution_count": 18,
     "metadata": {},
     "output_type": "execute_result"
    }
   ],
   "source": [
    "terciario = Chem.MolFromSmarts(\"[CX4&$(C(C)(C)(C))][N](N=O)\")\n",
    "substructure_match = mol.GetSubstructMatch(terciario)\n",
    "substructure_match"
   ]
  },
  {
   "cell_type": "code",
   "execution_count": 22,
   "metadata": {},
   "outputs": [
    {
     "data": {
      "image/png": "[encoded data removed]",
      "text/plain": [
       "<PIL.PngImagePlugin.PngImageFile image mode=RGB size=300x300>"
      ]
     },
     "execution_count": 22,
     "metadata": {},
     "output_type": "execute_result"
    }
   ],
   "source": [
    "img = MolToImage(mol)\n",
    "img"
   ]
  },
  {
   "cell_type": "code",
   "execution_count": null,
   "metadata": {},
   "outputs": [],
   "source": [
    "type(img)"
   ]
  },
  {
   "cell_type": "code",
   "execution_count": null,
   "metadata": {},
   "outputs": [],
   "source": [
    "width, height = 400, 400\n",
    "img = img.resize((width, height))\n",
    "image_buffer = BytesIO()\n",
    "img.save(image_buffer, format='PNG')\n",
    "image_buffer.seek(0)\n",
    "qimg = QImage.fromData(image_buffer.getvalue())\n"
   ]
  },
  {
   "cell_type": "code",
   "execution_count": null,
   "metadata": {},
   "outputs": [],
   "source": [
    "qimg"
   ]
  },
  {
   "cell_type": "markdown",
   "metadata": {},
   "source": [
    "# Identificar limites\n"
   ]
  },
  {
   "cell_type": "code",
   "execution_count": 2,
   "metadata": {},
   "outputs": [],
   "source": [
    "import pandas as pd\n",
    "import pubchempy as pcp"
   ]
  },
  {
   "cell_type": "code",
   "execution_count": 3,
   "metadata": {},
   "outputs": [],
   "source": [
    "df = pd.read_excel('database.xlsx')"
   ]
  },
  {
   "cell_type": "code",
   "execution_count": 4,
   "metadata": {},
   "outputs": [
    {
     "data": {
      "text/html": [
       "<div>\n",
       "<style scoped>\n",
       "    .dataframe tbody tr th:only-of-type {\n",
       "        vertical-align: middle;\n",
       "    }\n",
       "\n",
       "    .dataframe tbody tr th {\n",
       "        vertical-align: top;\n",
       "    }\n",
       "\n",
       "    .dataframe thead th {\n",
       "        text-align: right;\n",
       "    }\n",
       "</style>\n",
       "<table border=\"1\" class=\"dataframe\">\n",
       "  <thead>\n",
       "    <tr style=\"text-align: right;\">\n",
       "      <th></th>\n",
       "      <th>Name</th>\n",
       "      <th>Smiles</th>\n",
       "      <th>CPC</th>\n",
       "      <th>AI / ngday-</th>\n",
       "    </tr>\n",
       "  </thead>\n",
       "  <tbody>\n",
       "    <tr>\n",
       "      <th>0</th>\n",
       "      <td>N-Nitroso-Orphenadrine</td>\n",
       "      <td>CN(CCOC(c1ccccc1)c2ccccc2C)N=O</td>\n",
       "      <td>1</td>\n",
       "      <td>18</td>\n",
       "    </tr>\n",
       "    <tr>\n",
       "      <th>1</th>\n",
       "      <td>N-Nitroso-betahistine</td>\n",
       "      <td>CN(CCC1=CC=CC=N1)N=O</td>\n",
       "      <td>1</td>\n",
       "      <td>18</td>\n",
       "    </tr>\n",
       "    <tr>\n",
       "      <th>2</th>\n",
       "      <td>N-nitroso-desmethyl-chloropyramine</td>\n",
       "      <td>CN(CCN(Cc1ccc(Cl)cc1)c2ccccn2)N=O</td>\n",
       "      <td>1</td>\n",
       "      <td>18</td>\n",
       "    </tr>\n",
       "    <tr>\n",
       "      <th>3</th>\n",
       "      <td>N-nitroso-desmethyl-tripelennamine</td>\n",
       "      <td>CN(CCN(Cc1ccccc1)c2ccccn2)N=O</td>\n",
       "      <td>1</td>\n",
       "      <td>18</td>\n",
       "    </tr>\n",
       "    <tr>\n",
       "      <th>4</th>\n",
       "      <td>P-chlorobenzylamino-pyridine</td>\n",
       "      <td>Clc1ccc(CN(N=O)c2ccccn2)cc1</td>\n",
       "      <td>2</td>\n",
       "      <td>100</td>\n",
       "    </tr>\n",
       "    <tr>\n",
       "      <th>5</th>\n",
       "      <td>N-nitroso-phenylephrine</td>\n",
       "      <td>CN(C[C](O)c1cccc(O)c1)N=O</td>\n",
       "      <td>2</td>\n",
       "      <td>100</td>\n",
       "    </tr>\n",
       "    <tr>\n",
       "      <th>6</th>\n",
       "      <td>N-nitroso-rasagiline</td>\n",
       "      <td>O=NN(CC#C)[C]1CCc2ccccc12</td>\n",
       "      <td>2</td>\n",
       "      <td>100</td>\n",
       "    </tr>\n",
       "    <tr>\n",
       "      <th>7</th>\n",
       "      <td>N-nitroso-sertraline</td>\n",
       "      <td>CN(N=O)[C]1CC[C](c2ccc(Cl)c(Cl)c2)c3ccccc13</td>\n",
       "      <td>2</td>\n",
       "      <td>100</td>\n",
       "    </tr>\n",
       "    <tr>\n",
       "      <th>8</th>\n",
       "      <td>1-cyclopropylmethyl-4-nitrosopiperazine</td>\n",
       "      <td>O=NN1CCN(CC1)CC2CC2</td>\n",
       "      <td>3</td>\n",
       "      <td>400</td>\n",
       "    </tr>\n",
       "    <tr>\n",
       "      <th>9</th>\n",
       "      <td>1-methyl-4-nitroso piperazine</td>\n",
       "      <td>CN1CCN(CC1)N=O</td>\n",
       "      <td>3</td>\n",
       "      <td>400</td>\n",
       "    </tr>\n",
       "    <tr>\n",
       "      <th>10</th>\n",
       "      <td>nitroso impurity C” [N- (2,6-dimethylphenyl)-2...</td>\n",
       "      <td>Cc1cccc(C)c1NC(=O)CN2CCN(CC2)N=O</td>\n",
       "      <td>3</td>\n",
       "      <td>400</td>\n",
       "    </tr>\n",
       "    <tr>\n",
       "      <th>11</th>\n",
       "      <td>N-nitroso-ambroxol</td>\n",
       "      <td>C1CC(CCC1N(CC2=C(C(=CC(=C2)Br)Br)N)N=O)O</td>\n",
       "      <td>3</td>\n",
       "      <td>400</td>\n",
       "    </tr>\n",
       "    <tr>\n",
       "      <th>12</th>\n",
       "      <td>N-nitroso-aryl piperazine /N-nitroso-desalkyl ...</td>\n",
       "      <td>O=NN1CCN(CC1)C2=Nc3ccccc3Sc4ccccc24</td>\n",
       "      <td>3</td>\n",
       "      <td>400</td>\n",
       "    </tr>\n",
       "    <tr>\n",
       "      <th>13</th>\n",
       "      <td>N-nitroso-dabigatran</td>\n",
       "      <td>Cn1c(CN(N=O)c2ccc(cc2)C(N)=N)nc3cc(ccc13)C(=O)...</td>\n",
       "      <td>3</td>\n",
       "      <td>400</td>\n",
       "    </tr>\n",
       "    <tr>\n",
       "      <th>14</th>\n",
       "      <td>N-nitroso-desloratadine</td>\n",
       "      <td>C1CC2=C(C=CC(=C2)Cl)C(=C3CCN(CC3)N=O)C4=C1C=CC=N4</td>\n",
       "      <td>3</td>\n",
       "      <td>400</td>\n",
       "    </tr>\n",
       "    <tr>\n",
       "      <th>15</th>\n",
       "      <td>N-nitroso-Landiolol</td>\n",
       "      <td>CC1(C)OC[C](COC(=O)CCc2ccc(OC[C](O)CN(CCNC(=O)...</td>\n",
       "      <td>3</td>\n",
       "      <td>400</td>\n",
       "    </tr>\n",
       "    <tr>\n",
       "      <th>16</th>\n",
       "      <td>N-nitroso-mirabegron</td>\n",
       "      <td>Nc1scc(CC(=O)Nc2ccc(CCN(C[C](O)c3ccccc3)N=O)cc...</td>\n",
       "      <td>3</td>\n",
       "      <td>400</td>\n",
       "    </tr>\n",
       "    <tr>\n",
       "      <th>17</th>\n",
       "      <td>N-nitroso-N-ethyl-valacyclovir</td>\n",
       "      <td>CCN(N=O)[C](C(C)C)C(=O)OCCOCn1cnc2C(=O)NC(=Nc12)N</td>\n",
       "      <td>3</td>\n",
       "      <td>400</td>\n",
       "    </tr>\n",
       "    <tr>\n",
       "      <th>18</th>\n",
       "      <td>N-nitroso-N-methyl-valacyclovir</td>\n",
       "      <td>CC(C)[C](N(C)N=O)C(=O)OCCOCn1cnc2C(=O)NC(=Nc12)N</td>\n",
       "      <td>3</td>\n",
       "      <td>400</td>\n",
       "    </tr>\n",
       "    <tr>\n",
       "      <th>19</th>\n",
       "      <td>N-nitroso-piperazine</td>\n",
       "      <td>C1CN(CCN1)N=O</td>\n",
       "      <td>3</td>\n",
       "      <td>400</td>\n",
       "    </tr>\n",
       "    <tr>\n",
       "      <th>20</th>\n",
       "      <td>N-nitroso-pramipexole</td>\n",
       "      <td>CCCN(N=O)[C]1CCc2nc(N)sc2C1</td>\n",
       "      <td>3</td>\n",
       "      <td>400</td>\n",
       "    </tr>\n",
       "    <tr>\n",
       "      <th>21</th>\n",
       "      <td>N-nitroso-trimetazidine</td>\n",
       "      <td>COC1=C(C(=C(C=C1)CN2CCN(CC2)N=O)OC)OC</td>\n",
       "      <td>3</td>\n",
       "      <td>400</td>\n",
       "    </tr>\n",
       "    <tr>\n",
       "      <th>22</th>\n",
       "      <td>N-nitroso-vortioxetine</td>\n",
       "      <td>Cc1ccc(Sc2ccccc2N3CCN(CC3)N=O)c(C)c1</td>\n",
       "      <td>3</td>\n",
       "      <td>400</td>\n",
       "    </tr>\n",
       "    <tr>\n",
       "      <th>23</th>\n",
       "      <td>1-nitroso-pyrrolopiperidine</td>\n",
       "      <td>O=NN1CCCC2CNCC12</td>\n",
       "      <td>4</td>\n",
       "      <td>1500</td>\n",
       "    </tr>\n",
       "    <tr>\n",
       "      <th>24</th>\n",
       "      <td>Nitroso-praziquanamine</td>\n",
       "      <td>O=NN1CC2N(CCc3ccccc23)C(=O)C1</td>\n",
       "      <td>4</td>\n",
       "      <td>1500</td>\n",
       "    </tr>\n",
       "    <tr>\n",
       "      <th>25</th>\n",
       "      <td>N-nitroso-N-(2,6-dimethylphenyl)piperidine-2-c...</td>\n",
       "      <td>Cc1cccc(C)c1NC(=O)C2CCCCN2N=O</td>\n",
       "      <td>4</td>\n",
       "      <td>1500</td>\n",
       "    </tr>\n",
       "    <tr>\n",
       "      <th>26</th>\n",
       "      <td>N-nitroso-atenolol</td>\n",
       "      <td>CC(C)N(CC(COC1=CC=C(C=C1)CC(=O)N)O)N=O</td>\n",
       "      <td>4</td>\n",
       "      <td>1500</td>\n",
       "    </tr>\n",
       "    <tr>\n",
       "      <th>27</th>\n",
       "      <td>N-nitroso-bisoprolol</td>\n",
       "      <td>CC(C)OCCOCc1ccc(OCC(O)CN(N=O)C(C)C)cc1</td>\n",
       "      <td>4</td>\n",
       "      <td>1500</td>\n",
       "    </tr>\n",
       "    <tr>\n",
       "      <th>28</th>\n",
       "      <td>N-nitroso-bumetanide</td>\n",
       "      <td>CCCCN(C1=C(C(=CC(=C1)C(=O)O)S(=O)(=O)N)OC2=CC=...</td>\n",
       "      <td>4</td>\n",
       "      <td>1500</td>\n",
       "    </tr>\n",
       "    <tr>\n",
       "      <th>29</th>\n",
       "      <td>N-nitroso-ciprofloxacin</td>\n",
       "      <td>C1CC1N2C=C(C(=O)C3=CC(=C(C=C32)N4CCN(CC4)N=O)F...</td>\n",
       "      <td>4</td>\n",
       "      <td>1500</td>\n",
       "    </tr>\n",
       "    <tr>\n",
       "      <th>30</th>\n",
       "      <td>N-nitroso-folic acid</td>\n",
       "      <td>C1=CC(=CC=C1C(=O)NC(CCC(=O)O)C(=O)O)N(CC2=CN=C...</td>\n",
       "      <td>4</td>\n",
       "      <td>1500</td>\n",
       "    </tr>\n",
       "    <tr>\n",
       "      <th>31</th>\n",
       "      <td>N-nitroso-labetalol</td>\n",
       "      <td>CC(CCc1ccccc1)N(CC(O)c2ccc(O)c(c2)C(N)=O)N=O</td>\n",
       "      <td>4</td>\n",
       "      <td>1500</td>\n",
       "    </tr>\n",
       "    <tr>\n",
       "      <th>32</th>\n",
       "      <td>N-nitroso-levofloxacin</td>\n",
       "      <td>CC1COC2=C3N1C=C(C(=O)C3=CC(=C2N4CCN(CC4)N=O)F)...</td>\n",
       "      <td>4</td>\n",
       "      <td>1500</td>\n",
       "    </tr>\n",
       "    <tr>\n",
       "      <th>33</th>\n",
       "      <td>N-nitroso-metoprolol</td>\n",
       "      <td>CC(C)N(CC(COC1=CC=C(C=C1)CCOC)O)N=O</td>\n",
       "      <td>4</td>\n",
       "      <td>1500</td>\n",
       "    </tr>\n",
       "    <tr>\n",
       "      <th>34</th>\n",
       "      <td>N-nitroso-moxifloxacin</td>\n",
       "      <td>COc1c(N2C[C@@H]3CCCN(N=O)[C@@H]3C2)c(F)cc4C(=O...</td>\n",
       "      <td>4</td>\n",
       "      <td>1500</td>\n",
       "    </tr>\n",
       "    <tr>\n",
       "      <th>35</th>\n",
       "      <td>N-nitroso-nebivolol</td>\n",
       "      <td>C1CC2=C(C=CC(=C2)F)OC1C(CN(CC(C3CCC4=C(O3)C=CC...</td>\n",
       "      <td>4</td>\n",
       "      <td>1500</td>\n",
       "    </tr>\n",
       "    <tr>\n",
       "      <th>36</th>\n",
       "      <td>N-nitroso Propranolol</td>\n",
       "      <td>CC(C)N(CC(COC1=CC=CC2=CC=CC=C21)O)N=O</td>\n",
       "      <td>4</td>\n",
       "      <td>1500</td>\n",
       "    </tr>\n",
       "    <tr>\n",
       "      <th>37</th>\n",
       "      <td>N-nitroso-pseudoephedrine</td>\n",
       "      <td>CC(C(C1=CC=CC=C1)O)N(C)N=O</td>\n",
       "      <td>4</td>\n",
       "      <td>1500</td>\n",
       "    </tr>\n",
       "    <tr>\n",
       "      <th>38</th>\n",
       "      <td>N-nitroso-sotalol</td>\n",
       "      <td>CC(C)N(CC(C1=CC=C(C=C1)NS(=O)(=O)C)O)N=O</td>\n",
       "      <td>4</td>\n",
       "      <td>1500</td>\n",
       "    </tr>\n",
       "    <tr>\n",
       "      <th>39</th>\n",
       "      <td>N-nitroso-tamsulosin</td>\n",
       "      <td>CCOc1ccccc1OCCN(N=O)[C](C)Cc2ccc(OC)c(c2)[S](N...</td>\n",
       "      <td>4</td>\n",
       "      <td>1500</td>\n",
       "    </tr>\n",
       "    <tr>\n",
       "      <th>40</th>\n",
       "      <td>N-nitroso-diclofenac</td>\n",
       "      <td>C1=CC=C(C(=C1)CC(=O)O)N(C2=C(C=CC=C2Cl)Cl)N=O</td>\n",
       "      <td>5</td>\n",
       "      <td>1500</td>\n",
       "    </tr>\n",
       "    <tr>\n",
       "      <th>41</th>\n",
       "      <td>N-nitroso-benazepril</td>\n",
       "      <td>CCOC(=O)[C](CCc1ccccc1)N(N=O)[C]2CCc3ccccc3N(C...</td>\n",
       "      <td>5</td>\n",
       "      <td>1500</td>\n",
       "    </tr>\n",
       "    <tr>\n",
       "      <th>42</th>\n",
       "      <td>N-nitroso-bupropion</td>\n",
       "      <td>CC(C(=O)C1=CC(=CC=C1)Cl)N(C(C)(C)C)N=O</td>\n",
       "      <td>5</td>\n",
       "      <td>1500</td>\n",
       "    </tr>\n",
       "    <tr>\n",
       "      <th>43</th>\n",
       "      <td>N-nitroso-cilazapril</td>\n",
       "      <td>CCOC(=O)C(CCC1=CC=CC=C1)N(C2CCCN3CCCC(N3C2=O)C...</td>\n",
       "      <td>5</td>\n",
       "      <td>1500</td>\n",
       "    </tr>\n",
       "    <tr>\n",
       "      <th>44</th>\n",
       "      <td>N-nitroso-enalapril</td>\n",
       "      <td>CCOC(=O)C(CCC1=CC=CC=C1)N(C(C)C(=O)N2CCCC2C(=O...</td>\n",
       "      <td>5</td>\n",
       "      <td>1500</td>\n",
       "    </tr>\n",
       "    <tr>\n",
       "      <th>45</th>\n",
       "      <td>N-nitroso-lisinopril</td>\n",
       "      <td>NCCCC[C](N(N=O)[C](CCc1ccccc1)C(O)=O)C(=O)N2CC...</td>\n",
       "      <td>5</td>\n",
       "      <td>1500</td>\n",
       "    </tr>\n",
       "    <tr>\n",
       "      <th>46</th>\n",
       "      <td>N-nitroso-perindopril</td>\n",
       "      <td>CCC[C](N(N=O)[C](C)C(=O)N1[C](C[C@@H]2CCCC[C@H...</td>\n",
       "      <td>5</td>\n",
       "      <td>1500</td>\n",
       "    </tr>\n",
       "    <tr>\n",
       "      <th>47</th>\n",
       "      <td>N-nitroso-ramipril</td>\n",
       "      <td>CCOC(=O)[C](CCc1ccccc1)N(N=O)[C](C)C(=O)N2[C](...</td>\n",
       "      <td>5</td>\n",
       "      <td>1500</td>\n",
       "    </tr>\n",
       "    <tr>\n",
       "      <th>48</th>\n",
       "      <td>N-nitroso-desmethyl trimebutine</td>\n",
       "      <td>CCC(COC(=O)c1cc(OC)c(OC)c(OC)c1)(N(C)N=O)c2ccccc2</td>\n",
       "      <td>5</td>\n",
       "      <td>1500</td>\n",
       "    </tr>\n",
       "    <tr>\n",
       "      <th>49</th>\n",
       "      <td>N-nitroso-ketamine</td>\n",
       "      <td>CN(C1(CCCCC1=O)C2=CC=CC=C2Cl)N=O</td>\n",
       "      <td>5</td>\n",
       "      <td>1500</td>\n",
       "    </tr>\n",
       "    <tr>\n",
       "      <th>50</th>\n",
       "      <td>N-nitroso-salbutamol</td>\n",
       "      <td>CC(C)(C)N(CC(C1=CC(=C(C=C1)O)CO)O)N=O</td>\n",
       "      <td>5</td>\n",
       "      <td>1500</td>\n",
       "    </tr>\n",
       "    <tr>\n",
       "      <th>51</th>\n",
       "      <td>N-nitroso-vildagliptin</td>\n",
       "      <td>OC12CC3CC(C1)CC(C3)(C2)N(CC(=O)N4CCC[C]4C#N)N=O</td>\n",
       "      <td>5</td>\n",
       "      <td>1500</td>\n",
       "    </tr>\n",
       "  </tbody>\n",
       "</table>\n",
       "</div>"
      ],
      "text/plain": [
       "                                                 Name  \\\n",
       "0                              N-Nitroso-Orphenadrine   \n",
       "1                               N-Nitroso-betahistine   \n",
       "2                  N-nitroso-desmethyl-chloropyramine   \n",
       "3                  N-nitroso-desmethyl-tripelennamine   \n",
       "4                        P-chlorobenzylamino-pyridine   \n",
       "5                             N-nitroso-phenylephrine   \n",
       "6                                N-nitroso-rasagiline   \n",
       "7                                N-nitroso-sertraline   \n",
       "8             1-cyclopropylmethyl-4-nitrosopiperazine   \n",
       "9                       1-methyl-4-nitroso piperazine   \n",
       "10  nitroso impurity C” [N- (2,6-dimethylphenyl)-2...   \n",
       "11                                 N-nitroso-ambroxol   \n",
       "12  N-nitroso-aryl piperazine /N-nitroso-desalkyl ...   \n",
       "13                               N-nitroso-dabigatran   \n",
       "14                            N-nitroso-desloratadine   \n",
       "15                                N-nitroso-Landiolol   \n",
       "16                               N-nitroso-mirabegron   \n",
       "17                     N-nitroso-N-ethyl-valacyclovir   \n",
       "18                    N-nitroso-N-methyl-valacyclovir   \n",
       "19                               N-nitroso-piperazine   \n",
       "20                              N-nitroso-pramipexole   \n",
       "21                            N-nitroso-trimetazidine   \n",
       "22                             N-nitroso-vortioxetine   \n",
       "23                        1-nitroso-pyrrolopiperidine   \n",
       "24                             Nitroso-praziquanamine   \n",
       "25  N-nitroso-N-(2,6-dimethylphenyl)piperidine-2-c...   \n",
       "26                                 N-nitroso-atenolol   \n",
       "27                               N-nitroso-bisoprolol   \n",
       "28                               N-nitroso-bumetanide   \n",
       "29                            N-nitroso-ciprofloxacin   \n",
       "30                               N-nitroso-folic acid   \n",
       "31                                N-nitroso-labetalol   \n",
       "32                             N-nitroso-levofloxacin   \n",
       "33                               N-nitroso-metoprolol   \n",
       "34                             N-nitroso-moxifloxacin   \n",
       "35                                N-nitroso-nebivolol   \n",
       "36                              N-nitroso Propranolol   \n",
       "37                          N-nitroso-pseudoephedrine   \n",
       "38                                  N-nitroso-sotalol   \n",
       "39                               N-nitroso-tamsulosin   \n",
       "40                               N-nitroso-diclofenac   \n",
       "41                               N-nitroso-benazepril   \n",
       "42                                N-nitroso-bupropion   \n",
       "43                               N-nitroso-cilazapril   \n",
       "44                                N-nitroso-enalapril   \n",
       "45                               N-nitroso-lisinopril   \n",
       "46                              N-nitroso-perindopril   \n",
       "47                                 N-nitroso-ramipril   \n",
       "48                    N-nitroso-desmethyl trimebutine   \n",
       "49                                 N-nitroso-ketamine   \n",
       "50                               N-nitroso-salbutamol   \n",
       "51                             N-nitroso-vildagliptin   \n",
       "\n",
       "                                               Smiles  CPC  AI / ngday-  \n",
       "0                      CN(CCOC(c1ccccc1)c2ccccc2C)N=O    1           18  \n",
       "1                                CN(CCC1=CC=CC=N1)N=O    1           18  \n",
       "2                   CN(CCN(Cc1ccc(Cl)cc1)c2ccccn2)N=O    1           18  \n",
       "3                       CN(CCN(Cc1ccccc1)c2ccccn2)N=O    1           18  \n",
       "4                         Clc1ccc(CN(N=O)c2ccccn2)cc1    2          100  \n",
       "5                           CN(C[C](O)c1cccc(O)c1)N=O    2          100  \n",
       "6                           O=NN(CC#C)[C]1CCc2ccccc12    2          100  \n",
       "7         CN(N=O)[C]1CC[C](c2ccc(Cl)c(Cl)c2)c3ccccc13    2          100  \n",
       "8                                 O=NN1CCN(CC1)CC2CC2    3          400  \n",
       "9                                      CN1CCN(CC1)N=O    3          400  \n",
       "10                   Cc1cccc(C)c1NC(=O)CN2CCN(CC2)N=O    3          400  \n",
       "11           C1CC(CCC1N(CC2=C(C(=CC(=C2)Br)Br)N)N=O)O    3          400  \n",
       "12                O=NN1CCN(CC1)C2=Nc3ccccc3Sc4ccccc24    3          400  \n",
       "13  Cn1c(CN(N=O)c2ccc(cc2)C(N)=N)nc3cc(ccc13)C(=O)...    3          400  \n",
       "14  C1CC2=C(C=CC(=C2)Cl)C(=C3CCN(CC3)N=O)C4=C1C=CC=N4    3          400  \n",
       "15  CC1(C)OC[C](COC(=O)CCc2ccc(OC[C](O)CN(CCNC(=O)...    3          400  \n",
       "16  Nc1scc(CC(=O)Nc2ccc(CCN(C[C](O)c3ccccc3)N=O)cc...    3          400  \n",
       "17  CCN(N=O)[C](C(C)C)C(=O)OCCOCn1cnc2C(=O)NC(=Nc12)N    3          400  \n",
       "18   CC(C)[C](N(C)N=O)C(=O)OCCOCn1cnc2C(=O)NC(=Nc12)N    3          400  \n",
       "19                                      C1CN(CCN1)N=O    3          400  \n",
       "20                        CCCN(N=O)[C]1CCc2nc(N)sc2C1    3          400  \n",
       "21              COC1=C(C(=C(C=C1)CN2CCN(CC2)N=O)OC)OC    3          400  \n",
       "22               Cc1ccc(Sc2ccccc2N3CCN(CC3)N=O)c(C)c1    3          400  \n",
       "23                                   O=NN1CCCC2CNCC12    4         1500  \n",
       "24                      O=NN1CC2N(CCc3ccccc23)C(=O)C1    4         1500  \n",
       "25                      Cc1cccc(C)c1NC(=O)C2CCCCN2N=O    4         1500  \n",
       "26             CC(C)N(CC(COC1=CC=C(C=C1)CC(=O)N)O)N=O    4         1500  \n",
       "27             CC(C)OCCOCc1ccc(OCC(O)CN(N=O)C(C)C)cc1    4         1500  \n",
       "28  CCCCN(C1=C(C(=CC(=C1)C(=O)O)S(=O)(=O)N)OC2=CC=...    4         1500  \n",
       "29  C1CC1N2C=C(C(=O)C3=CC(=C(C=C32)N4CCN(CC4)N=O)F...    4         1500  \n",
       "30  C1=CC(=CC=C1C(=O)NC(CCC(=O)O)C(=O)O)N(CC2=CN=C...    4         1500  \n",
       "31       CC(CCc1ccccc1)N(CC(O)c2ccc(O)c(c2)C(N)=O)N=O    4         1500  \n",
       "32  CC1COC2=C3N1C=C(C(=O)C3=CC(=C2N4CCN(CC4)N=O)F)...    4         1500  \n",
       "33                CC(C)N(CC(COC1=CC=C(C=C1)CCOC)O)N=O    4         1500  \n",
       "34  COc1c(N2C[C@@H]3CCCN(N=O)[C@@H]3C2)c(F)cc4C(=O...    4         1500  \n",
       "35  C1CC2=C(C=CC(=C2)F)OC1C(CN(CC(C3CCC4=C(O3)C=CC...    4         1500  \n",
       "36              CC(C)N(CC(COC1=CC=CC2=CC=CC=C21)O)N=O    4         1500  \n",
       "37                         CC(C(C1=CC=CC=C1)O)N(C)N=O    4         1500  \n",
       "38           CC(C)N(CC(C1=CC=C(C=C1)NS(=O)(=O)C)O)N=O    4         1500  \n",
       "39  CCOc1ccccc1OCCN(N=O)[C](C)Cc2ccc(OC)c(c2)[S](N...    4         1500  \n",
       "40      C1=CC=C(C(=C1)CC(=O)O)N(C2=C(C=CC=C2Cl)Cl)N=O    5         1500  \n",
       "41  CCOC(=O)[C](CCc1ccccc1)N(N=O)[C]2CCc3ccccc3N(C...    5         1500  \n",
       "42             CC(C(=O)C1=CC(=CC=C1)Cl)N(C(C)(C)C)N=O    5         1500  \n",
       "43  CCOC(=O)C(CCC1=CC=CC=C1)N(C2CCCN3CCCC(N3C2=O)C...    5         1500  \n",
       "44  CCOC(=O)C(CCC1=CC=CC=C1)N(C(C)C(=O)N2CCCC2C(=O...    5         1500  \n",
       "45  NCCCC[C](N(N=O)[C](CCc1ccccc1)C(O)=O)C(=O)N2CC...    5         1500  \n",
       "46  CCC[C](N(N=O)[C](C)C(=O)N1[C](C[C@@H]2CCCC[C@H...    5         1500  \n",
       "47  CCOC(=O)[C](CCc1ccccc1)N(N=O)[C](C)C(=O)N2[C](...    5         1500  \n",
       "48  CCC(COC(=O)c1cc(OC)c(OC)c(OC)c1)(N(C)N=O)c2ccccc2    5         1500  \n",
       "49                   CN(C1(CCCCC1=O)C2=CC=CC=C2Cl)N=O    5         1500  \n",
       "50              CC(C)(C)N(CC(C1=CC(=C(C=C1)O)CO)O)N=O    5         1500  \n",
       "51    OC12CC3CC(C1)CC(C3)(C2)N(CC(=O)N4CCC[C]4C#N)N=O    5         1500  "
      ]
     },
     "execution_count": 4,
     "metadata": {},
     "output_type": "execute_result"
    }
   ],
   "source": [
    "df"
   ]
  },
  {
   "cell_type": "code",
   "execution_count": null,
   "metadata": {},
   "outputs": [],
   "source": [
    "def buscar_smiles(nome_estrutura):\n",
    "    resultados = pcp.get_compounds(nome_estrutura, 'name')\n",
    "    if len(resultados) > 0:\n",
    "        return resultados[0].canonical_smiles\n",
    "    else:\n",
    "        return None\n"
   ]
  },
  {
   "cell_type": "code",
   "execution_count": null,
   "metadata": {},
   "outputs": [],
   "source": [
    "def buscar_nome(smiles):\n",
    "    resultado  = pcp.get_properties(smiles=smiles)\n",
    "    if 'IUPACName' in resultado:\n",
    "        # Retornar o nome da estrutura encontrado\n",
    "        return resultado['IUPACName']\n",
    "    else:\n",
    "        return None\n"
   ]
  },
  {
   "cell_type": "code",
   "execution_count": 7,
   "metadata": {},
   "outputs": [],
   "source": [
    "def validar_smiles(smiles, dataframe):\n",
    "    result = dataframe[dataframe['Smiles'] == smiles]\n",
    "    if len(result) > 0:\n",
    "        cpc = result['CPC'].iloc[0]\n",
    "        ai = result['AI / ngday-'].iloc[0]\n",
    "        return cpc, ai\n",
    "    else:\n",
    "        return None"
   ]
  },
  {
   "cell_type": "code",
   "execution_count": 4,
   "metadata": {},
   "outputs": [],
   "source": [
    "smiles = 'OC12CC3CC(C1)CC(C3)(C2)N(CC(=O)N4CCC[C]4C#N)N=O'"
   ]
  },
  {
   "cell_type": "code",
   "execution_count": 8,
   "metadata": {},
   "outputs": [],
   "source": [
    "resultado = validar_smiles(smiles, df)"
   ]
  },
  {
   "cell_type": "code",
   "execution_count": 9,
   "metadata": {},
   "outputs": [
    {
     "name": "stdout",
     "output_type": "stream",
     "text": [
      "CPC: 5, AI: 1500\n"
     ]
    }
   ],
   "source": [
    "if resultado:\n",
    "    cpc, ai = resultado\n",
    "    print(f\"CPC: {cpc}, AI: {ai}\")\n",
    "else:\n",
    "    print(\"Smiles não encontrado no DataFrame.\")"
   ]
  },
  {
   "cell_type": "code",
   "execution_count": 1,
   "metadata": {},
   "outputs": [],
   "source": [
    "from rdkit import Chem\n",
    "from rdkit.Chem import MolFromSmiles"
   ]
  },
  {
   "cell_type": "code",
   "execution_count": 2,
   "metadata": {},
   "outputs": [],
   "source": [
    "smiles = 'C1CN(CCN1N=O)C2=CC=CC=C2'"
   ]
  },
  {
   "cell_type": "code",
   "execution_count": 3,
   "metadata": {},
   "outputs": [
    {
     "data": {
      "image/png": "[encoded data removed]",
      "text/plain": [
       "<rdkit.Chem.rdchem.Mol at 0x200dccdf580>"
      ]
     },
     "execution_count": 3,
     "metadata": {},
     "output_type": "execute_result"
    }
   ],
   "source": [
    "mol1 = MolFromSmiles(smiles)\n",
    "mol1"
   ]
  },
  {
   "cell_type": "code",
   "execution_count": 4,
   "metadata": {},
   "outputs": [
    {
     "data": {
      "image/png": "[encoded data removed]",
      "text/plain": [
       "<rdkit.Chem.rdchem.Mol at 0x200dccdf660>"
      ]
     },
     "execution_count": 4,
     "metadata": {},
     "output_type": "execute_result"
    }
   ],
   "source": [
    "mol = Chem.AddHs(mol1)\n",
    "mol"
   ]
  },
  {
   "cell_type": "code",
   "execution_count": 5,
   "metadata": {},
   "outputs": [
    {
     "data": {
      "text/plain": [
       "[2, 5, 6]"
      ]
     },
     "execution_count": 5,
     "metadata": {},
     "output_type": "execute_result"
    }
   ],
   "source": [
    "nitrogen_atoms = [atom.GetIdx() for atom in mol.GetAtoms() if atom.GetAtomicNum() == 7]\n",
    "nitrogen_atoms"
   ]
  },
  {
   "cell_type": "code",
   "execution_count": 7,
   "metadata": {},
   "outputs": [
    {
     "name": "stdout",
     "output_type": "stream",
     "text": [
      "O átomo de nitrogênio 2 possui vizinhos de carbono.\n",
      "O átomo de nitrogênio 5 possui vizinhos de carbono.\n",
      "O átomo de nitrogênio 6 não possui vizinhos de carbono.\n"
     ]
    }
   ],
   "source": [
    "for nitrogen_atom in nitrogen_atoms:\n",
    "    neighbors = mol.GetAtomWithIdx(nitrogen_atom).GetNeighbors()\n",
    "    carbon_neighbors = [neighbor for neighbor in neighbors if neighbor.GetAtomicNum() == 6]    \n",
    "    if len(carbon_neighbors) > 0:\n",
    "        print(f\"O átomo de nitrogênio {nitrogen_atom} possui vizinhos de carbono.\")\n",
    "    else:\n",
    "        print(f\"O átomo de nitrogênio {nitrogen_atom} não possui vizinhos de carbono.\")"
   ]
  },
  {
   "cell_type": "code",
   "execution_count": 16,
   "metadata": {},
   "outputs": [
    {
     "name": "stdout",
     "output_type": "stream",
     "text": [
      "Carbono vizinho 1 tem 2 hidrogênios ligados.\n",
      "Carbono vizinho 3 tem 2 hidrogênios ligados.\n",
      "Carbono vizinho 8 tem 0 hidrogênios ligados.\n",
      "Carbono vizinho 4 tem 2 hidrogênios ligados.\n",
      "Carbono vizinho 0 tem 2 hidrogênios ligados.\n"
     ]
    }
   ],
   "source": [
    "for nitrogen_atom in nitrogen_atoms:\n",
    "    neighbors = mol.GetAtomWithIdx(nitrogen_atom).GetNeighbors()\n",
    "    \n",
    "    for neighbor in neighbors:\n",
    "        if neighbor.GetAtomicNum() == 6:\n",
    "            carbon_index = neighbor.GetIdx()\n",
    "            hydrogen_count = len([atom for atom in neighbor.GetNeighbors() if atom.GetAtomicNum() == 1])\n",
    "            print(f\"Carbono vizinho {carbon_index} tem {hydrogen_count} hidrogênios ligados.\")"
   ]
  },
  {
   "cell_type": "code",
   "execution_count": 17,
   "metadata": {},
   "outputs": [
    {
     "name": "stdout",
     "output_type": "stream",
     "text": [
      "Átomo de nitrogênio 2:\n",
      "  Carbono vizinho 1 tem 2 hidrogênios ligados.\n",
      "  Carbono vizinho 3 tem 2 hidrogênios ligados.\n",
      "  Carbono vizinho 8 tem 0 hidrogênios ligados.\n",
      "Átomo de nitrogênio 5:\n",
      "  Carbono vizinho 4 tem 2 hidrogênios ligados.\n",
      "  Carbono vizinho 0 tem 2 hidrogênios ligados.\n",
      "Átomo de nitrogênio 6:\n"
     ]
    }
   ],
   "source": [
    "# Criar um dicionário para armazenar as informações\n",
    "nitrogen_carbon_info = {}\n",
    "\n",
    "# Identificar todos os átomos de nitrogênio na molécula\n",
    "nitrogen_atoms = [atom.GetIdx() for atom in mol.GetAtoms() if atom.GetAtomicNum() == 7]\n",
    "\n",
    "# Verificar os vizinhos dos átomos de nitrogênio\n",
    "for nitrogen_atom in nitrogen_atoms:\n",
    "    nitrogen_carbon_info[nitrogen_atom] = []\n",
    "    \n",
    "    neighbors = mol.GetAtomWithIdx(nitrogen_atom).GetNeighbors()\n",
    "    \n",
    "    for neighbor in neighbors:\n",
    "        if neighbor.GetAtomicNum() == 6:  # Verificar se é um átomo de carbono\n",
    "            carbon_index = neighbor.GetIdx()\n",
    "            hydrogen_count = len([atom for atom in neighbor.GetNeighbors() if atom.GetAtomicNum() == 1])\n",
    "            nitrogen_carbon_info[nitrogen_atom].append((carbon_index, hydrogen_count))\n",
    "\n",
    "# Imprimir as informações\n",
    "for nitrogen_atom, carbon_info in nitrogen_carbon_info.items():\n",
    "    print(f\"Átomo de nitrogênio {nitrogen_atom}:\")\n",
    "    for carbon_index, hydrogen_count in carbon_info:\n",
    "        print(f\"  Carbono vizinho {carbon_index} tem {hydrogen_count} hidrogênios ligados.\")"
   ]
  },
  {
   "cell_type": "code",
   "execution_count": 8,
   "metadata": {},
   "outputs": [
    {
     "data": {
      "image/png": "[encoded data removed]",
      "text/plain": [
       "<rdkit.Chem.rdchem.Mol at 0x200dccdfc10>"
      ]
     },
     "execution_count": 8,
     "metadata": {},
     "output_type": "execute_result"
    }
   ],
   "source": [
    "# Definir o padrão SMARTS correspondente à nitrosamina\n",
    "pattern = Chem.MolFromSmarts(\"[#7]-[#7]=[#8]\")\n",
    "pattern"
   ]
  },
  {
   "cell_type": "code",
   "execution_count": 9,
   "metadata": {},
   "outputs": [
    {
     "name": "stdout",
     "output_type": "stream",
     "text": [
      "A molécula contém uma nitrosamina.\n"
     ]
    }
   ],
   "source": [
    "# Verificar se o padrão está presente na molécula\n",
    "if mol.HasSubstructMatch(pattern):\n",
    "    print(\"A molécula contém uma nitrosamina.\")\n",
    "else:\n",
    "    print(\"A molécula não contém uma nitrosamina.\")"
   ]
  },
  {
   "cell_type": "code",
   "execution_count": 10,
   "metadata": {},
   "outputs": [
    {
     "name": "stdout",
     "output_type": "stream",
     "text": [
      "Carbono vizinho 4 tem 2 átomos de hidrogênio ligados.\n",
      "Carbono vizinho 0 tem 2 átomos de hidrogênio ligados.\n"
     ]
    }
   ],
   "source": [
    "# Verificar se o padrão está presente na molécula\n",
    "result = []\n",
    "substructure_match = mol.GetSubstructMatch(pattern)\n",
    "if substructure_match:\n",
    "    nitrosamine_atoms = set(substructure_match)\n",
    "    carbon_hydrogen_info = {}\n",
    "\n",
    "    # Verificar os vizinhos dos átomos de nitrogênio da nitrosamina\n",
    "    for atom_idx in nitrosamine_atoms:\n",
    "        atom = mol.GetAtomWithIdx(atom_idx)\n",
    "        neighbors = atom.GetNeighbors()\n",
    "\n",
    "        for neighbor in neighbors:\n",
    "            if neighbor.GetAtomicNum() == 6:  # Verificar se é um átomo de carbono\n",
    "                carbon_idx = neighbor.GetIdx()\n",
    "                hydrogen_count = len([atom for atom in neighbor.GetNeighbors() if atom.GetAtomicNum() == 1])\n",
    "                carbon_hydrogen_info[carbon_idx] = hydrogen_count\n",
    "\n",
    "    # Imprimir as informações sobre os carbonos vizinhos\n",
    "    for carbon_idx, hydrogen_count in carbon_hydrogen_info.items():\n",
    "        print(f\"Carbono vizinho {carbon_idx} tem {hydrogen_count} átomos de hidrogênio ligados.\")\n",
    "else:\n",
    "    print(\"Não foi encontrada uma nitrosamina na molécula.\")\n"
   ]
  },
  {
   "cell_type": "code",
   "execution_count": 11,
   "metadata": {},
   "outputs": [
    {
     "name": "stdout",
     "output_type": "stream",
     "text": [
      "[(4, 2), (0, 2)]\n"
     ]
    }
   ],
   "source": [
    "def verificar_H_Carbonoalfa(smiles):\n",
    "    # Converter o SMILES em uma molécula\n",
    "    mol1 = Chem.MolFromSmiles(smiles)\n",
    "    mol = Chem.AddHs(mol1)\n",
    "\n",
    "    # Definir o padrão SMARTS correspondente à nitrosamina\n",
    "    pattern = Chem.MolFromSmarts(\"N-N=O\")\n",
    "\n",
    "    # Verificar se o padrão está presente na molécula\n",
    "    substructure_match = mol.GetSubstructMatch(pattern)\n",
    "    result_dict = {}\n",
    "\n",
    "    if substructure_match:\n",
    "        nitrosamine_atoms = set(substructure_match)\n",
    "\n",
    "        # Verificar os vizinhos dos átomos de nitrogênio da nitrosamina\n",
    "        for atom_idx in nitrosamine_atoms:\n",
    "            atom = mol.GetAtomWithIdx(atom_idx)\n",
    "            neighbors = atom.GetNeighbors()\n",
    "\n",
    "            for neighbor in neighbors:\n",
    "                if neighbor.GetAtomicNum() == 6:  # Verificar se é um átomo de carbono\n",
    "                    carbon_idx = neighbor.GetIdx()\n",
    "                    hydrogen_count = len([atom for atom in neighbor.GetNeighbors() if atom.GetAtomicNum() == 1])\n",
    "                    result_dict[carbon_idx] = hydrogen_count\n",
    "    lista_resultado = list(result_dict.items())\n",
    "    return lista_resultado\n",
    "\n",
    "# Exemplo de uso da função\n",
    "smiles = 'C1CN(CCN1N=O)C2=CC=CC=C2'\n",
    "resultado = verificar_H_Carbonoalfa(smiles)\n",
    "print(resultado)\n"
   ]
  },
  {
   "cell_type": "code",
   "execution_count": 15,
   "metadata": {},
   "outputs": [
    {
     "data": {
      "text/plain": [
       "5"
      ]
     },
     "execution_count": 15,
     "metadata": {},
     "output_type": "execute_result"
    }
   ],
   "source": [
    "list(nitrosamine_atoms)[0]"
   ]
  },
  {
   "cell_type": "code",
   "execution_count": 11,
   "metadata": {},
   "outputs": [
    {
     "data": {
      "text/plain": [
       "[(4, 2), (0, 2)]"
      ]
     },
     "execution_count": 11,
     "metadata": {},
     "output_type": "execute_result"
    }
   ],
   "source": [
    "resultado"
   ]
  },
  {
   "cell_type": "code",
   "execution_count": 12,
   "metadata": {},
   "outputs": [],
   "source": [
    "lado1 = resultado[0]\n",
    "lado2 = resultado[1]\n",
    "chave_C1, valorH1 = lado1\n",
    "chave_C2, valorH2 = lado2"
   ]
  },
  {
   "cell_type": "code",
   "execution_count": 13,
   "metadata": {},
   "outputs": [
    {
     "data": {
      "text/plain": [
       "(4, 2)"
      ]
     },
     "execution_count": 13,
     "metadata": {},
     "output_type": "execute_result"
    }
   ],
   "source": [
    "chave_C1, valorH1"
   ]
  },
  {
   "cell_type": "code",
   "execution_count": 14,
   "metadata": {},
   "outputs": [
    {
     "data": {
      "text/plain": [
       "(0, 2)"
      ]
     },
     "execution_count": 14,
     "metadata": {},
     "output_type": "execute_result"
    }
   ],
   "source": [
    "chave_C2, valorH2"
   ]
  },
  {
   "cell_type": "markdown",
   "metadata": {},
   "source": [
    "## TEM ALGUM HIDROGENIO NO CARBONO ALFA"
   ]
  },
  {
   "cell_type": "code",
   "execution_count": 15,
   "metadata": {},
   "outputs": [
    {
     "name": "stdout",
     "output_type": "stream",
     "text": [
      "Verificar hidrogenio lados\n"
     ]
    }
   ],
   "source": [
    "if valorH1 or valorH2:\n",
    "    print(\"Verificar hidrogenio lados\")\n",
    "else:\n",
    "    print(\"A nitrosamina é de categoria 5 e tem limite diário de 1500ng\")"
   ]
  },
  {
   "cell_type": "markdown",
   "metadata": {},
   "source": [
    "## TEM MAIS QUE UM H em UM OU DOS DOIS LADOS"
   ]
  },
  {
   "cell_type": "code",
   "execution_count": 16,
   "metadata": {},
   "outputs": [
    {
     "data": {
      "text/plain": [
       "(2, 2)"
      ]
     },
     "execution_count": 16,
     "metadata": {},
     "output_type": "execute_result"
    }
   ],
   "source": [
    "valorH1, valorH2"
   ]
  },
  {
   "cell_type": "code",
   "execution_count": 17,
   "metadata": {},
   "outputs": [
    {
     "name": "stdout",
     "output_type": "stream",
     "text": [
      "verificar_carbono_terciario\n"
     ]
    }
   ],
   "source": [
    "if valorH1 & valorH2 > 1:\n",
    "    print(\"verificar_carbono_terciario\")\n",
    "else:\n",
    "    print(\"A nitrosamina é de categoria 5 e tem limite diário de 1500ng\")\n"
   ]
  },
  {
   "cell_type": "markdown",
   "metadata": {},
   "source": [
    "## TEM CARBONO TERCIARIO"
   ]
  },
  {
   "cell_type": "code",
   "execution_count": 18,
   "metadata": {},
   "outputs": [
    {
     "name": "stdout",
     "output_type": "stream",
     "text": [
      "Calcular potencia score\n"
     ]
    }
   ],
   "source": [
    "carbonos_selecionados = [chave_C1, chave_C2]\n",
    "\n",
    "terciario = True\n",
    "\n",
    "for indice_carbono in carbonos_selecionados:\n",
    "    carbono = mol.GetAtomWithIdx(indice_carbono)\n",
    "    carbonos_vizinhos = [atom for atom in carbono.GetNeighbors() if atom.GetAtomicNum() == 6]\n",
    "    if len(carbonos_vizinhos) != 3:\n",
    "        terciario = False\n",
    "        break\n",
    "\n",
    "if terciario:\n",
    "    print(\"A nitrosamina é de categoria 5 e tem limite diário de 1500ng\")\n",
    "else:\n",
    "    print(\"Calcular potencia score\")"
   ]
  },
  {
   "cell_type": "markdown",
   "metadata": {},
   "source": [
    "## CALCULAR POTENCIA SCORE\n",
    "pot_score = alfaH_score + deact_score + activ_score"
   ]
  },
  {
   "cell_type": "code",
   "execution_count": 19,
   "metadata": {},
   "outputs": [
    {
     "data": {
      "text/plain": [
       "(2, 2)"
      ]
     },
     "execution_count": 19,
     "metadata": {},
     "output_type": "execute_result"
    }
   ],
   "source": [
    "valorH1, valorH2"
   ]
  },
  {
   "cell_type": "code",
   "execution_count": 20,
   "metadata": {},
   "outputs": [
    {
     "data": {
      "text/plain": [
       "(4, 0)"
      ]
     },
     "execution_count": 20,
     "metadata": {},
     "output_type": "execute_result"
    }
   ],
   "source": [
    "chave_C1, chave_C2"
   ]
  },
  {
   "cell_type": "markdown",
   "metadata": {},
   "source": [
    "# Score contagem H"
   ]
  },
  {
   "cell_type": "code",
   "execution_count": 21,
   "metadata": {},
   "outputs": [
    {
     "data": {
      "image/png": "[encoded data removed]",
      "text/plain": [
       "<rdkit.Chem.rdchem.Mol at 0x26567a346d0>"
      ]
     },
     "execution_count": 21,
     "metadata": {},
     "output_type": "execute_result"
    }
   ],
   "source": [
    "# Definir os índices do átomo de nitrogênio da nitrosamina e do carbono C1, C2\n",
    "atoms_nitrosamina = mol.GetSubstructMatch(pattern)\n",
    "indice_nitrogenio_nitrosamina = atoms_nitrosamina[0]\n",
    "smartsetil = Chem.MolFromSmarts('[CH3][CH2]')\n",
    "smartsetil"
   ]
  },
  {
   "cell_type": "code",
   "execution_count": 22,
   "metadata": {},
   "outputs": [
    {
     "data": {
      "text/plain": [
       "False"
      ]
     },
     "execution_count": 22,
     "metadata": {},
     "output_type": "execute_result"
    }
   ],
   "source": [
    "#teste 1\n",
    "etil = Chem.MolFromSmiles(\"N(N=O)(CCC)CCC\")\n",
    "atoms_nitrosamina = etil.GetSubstructMatch(pattern)\n",
    "indice_nitrogenio_nitrosamina = atoms_nitrosamina[0]\n",
    "atoms_grupo_etil = etil.GetSubstructMatch(smartsetil)\n",
    "# Identificar os vizinhos de cada átomo do grupo etil\n",
    "vizinhos_grupo_etil = []\n",
    "for atom_idx in atoms_grupo_etil:\n",
    "    atom = etil.GetAtomWithIdx(atom_idx)\n",
    "    neighbors = atom.GetNeighbors()\n",
    "    vizinhos_grupo_etil.extend(neighbors)\n",
    "# Verificar se algum dos índices dos átomos vizinhos do grupo etil é igual ao índice do átomo de nitrogênio da nitrosamina\n",
    "grupo_etil_ligado_ao_nitrogenio = any(atom.GetIdx() == indice_nitrogenio_nitrosamina for atom in vizinhos_grupo_etil)\n",
    "grupo_etil_ligado_ao_nitrogenio\n"
   ]
  },
  {
   "cell_type": "code",
   "execution_count": 23,
   "metadata": {},
   "outputs": [
    {
     "data": {
      "text/plain": [
       "(2, (0, 1))"
      ]
     },
     "execution_count": 23,
     "metadata": {},
     "output_type": "execute_result"
    }
   ],
   "source": [
    "#teste 2\n",
    "etil = Chem.MolFromSmiles(\"CCN(N=O)CC\")\n",
    "grupo_etil_presente = etil.HasSubstructMatch(smartsetil)\n",
    "atoms_nitrosamina = etil.GetSubstructMatch(pattern)\n",
    "indice_nitrogenio_nitrosamina = atoms_nitrosamina[0]\n",
    "atoms_grupo_etil = etil.GetSubstructMatch(smartsetil)\n",
    "indice_nitrogenio_nitrosamina, atoms_grupo_etil"
   ]
  },
  {
   "cell_type": "code",
   "execution_count": 24,
   "metadata": {},
   "outputs": [
    {
     "data": {
      "text/plain": [
       "[<rdkit.Chem.rdchem.Atom at 0x26567a34820>,\n",
       " <rdkit.Chem.rdchem.Atom at 0x26567a0fd60>,\n",
       " <rdkit.Chem.rdchem.Atom at 0x26567a34a50>]"
      ]
     },
     "execution_count": 24,
     "metadata": {},
     "output_type": "execute_result"
    }
   ],
   "source": [
    "# Identificar os vizinhos de cada átomo do grupo etil\n",
    "vizinhos_grupo_etil = []\n",
    "for atom_idx in atoms_grupo_etil:\n",
    "    atom = etil.GetAtomWithIdx(atom_idx)\n",
    "    neighbors = atom.GetNeighbors()\n",
    "    vizinhos_grupo_etil.extend(neighbors)\n",
    "vizinhos_grupo_etil"
   ]
  },
  {
   "cell_type": "code",
   "execution_count": 25,
   "metadata": {},
   "outputs": [
    {
     "data": {
      "text/plain": [
       "True"
      ]
     },
     "execution_count": 25,
     "metadata": {},
     "output_type": "execute_result"
    }
   ],
   "source": [
    "# Verificar se algum dos índices dos átomos vizinhos do grupo etil é igual ao índice do átomo de nitrogênio da nitrosamina\n",
    "grupo_etil_ligado_ao_nitrogenio = any(atom.GetIdx() == indice_nitrogenio_nitrosamina for atom in vizinhos_grupo_etil)\n",
    "grupo_etil_ligado_ao_nitrogenio"
   ]
  },
  {
   "cell_type": "code",
   "execution_count": 27,
   "metadata": {},
   "outputs": [
    {
     "name": "stdout",
     "output_type": "stream",
     "text": [
      "H Alfa: (0,2) - Score 3\n"
     ]
    }
   ],
   "source": [
    "if valorH1 or valorH2 == 0 & valorH1 or valorH2 == 2:\n",
    "    #*  Verificar se o grupo etil está presente na molécula\n",
    "    grupo_etil_presente = mol.HasSubstructMatch(smartsetil)\n",
    "    if grupo_etil_presente:\n",
    "        #adicionar racional\n",
    "        score = 2 if grupo_etil_ligado_ao_nitrogenio else 3\n",
    "        print(\"Grupo etil ligado a nitrosamina\")\n",
    "    else:\n",
    "        score = 3\n",
    "    print(f\"H Alfa: (0,2) - Score {score}\")\n",
    "elif valorH1 or valorH2 == 0 & valorH1 or valorH2 == 3:\n",
    "    print(\"H Alfa: (0,3) - Score 2\")\n",
    "elif valorH1 or valorH2 == 1 & valorH1 or valorH2 == 2:\n",
    "    print(\"H Alfa: (1,2) - Score 3\")\n",
    "elif valorH1 or valorH2 == 1 & valorH1 or valorH2 == 3:\n",
    "    print(\"H Alfa: (1,3) - Score 3\")\n",
    "elif valorH1 & valorH2 == 2:\n",
    "    print(\"H Alfa: (2,2) - Score 1\")\n",
    "elif valorH1 or valorH2 == 2 & valorH1 or valorH2 == 3:\n",
    "    print(\"H Alfa: (2,3) - Score 1\")\n",
    "else:\n",
    "    print(\"Erro, nenhum caso listado anteriormente\")"
   ]
  },
  {
   "cell_type": "markdown",
   "metadata": {},
   "source": [
    "# Score grupos desativantes"
   ]
  },
  {
   "cell_type": "code",
   "execution_count": 17,
   "metadata": {},
   "outputs": [],
   "source": [
    "desat_score = 0"
   ]
  },
  {
   "cell_type": "code",
   "execution_count": 16,
   "metadata": {},
   "outputs": [
    {
     "data": {
      "image/png": "[encoded data removed]",
      "text/plain": [
       "<rdkit.Chem.rdchem.Mol at 0x200eed7ef20>"
      ]
     },
     "execution_count": 16,
     "metadata": {},
     "output_type": "execute_result"
    }
   ],
   "source": [
    "# Definir o SMARTS para detectar o ácido carboxílico\n",
    "smarts_acido_carboxilico = Chem.MolFromSmarts('[#6](=[#8])-[#8]')\n",
    "smarts_acido_carboxilico"
   ]
  },
  {
   "cell_type": "code",
   "execution_count": 18,
   "metadata": {},
   "outputs": [
    {
     "data": {
      "image/png": "[encoded data removed]",
      "text/plain": [
       "<rdkit.Chem.rdchem.Mol at 0x200ef1f7580>"
      ]
     },
     "execution_count": 18,
     "metadata": {},
     "output_type": "execute_result"
    }
   ],
   "source": [
    "# Criar a molécula a partir do SMILES\n",
    "teste = 'C1(CCC(CC1)CCC)N(N=O)CCC(CC)C(=O)O'\n",
    "teste = Chem.CanonSmiles(teste)\n",
    "teste = Chem.MolFromSmiles(teste)\n",
    "teste"
   ]
  },
  {
   "cell_type": "code",
   "execution_count": 19,
   "metadata": {},
   "outputs": [
    {
     "data": {
      "text/plain": [
       "True"
      ]
     },
     "execution_count": 19,
     "metadata": {},
     "output_type": "execute_result"
    }
   ],
   "source": [
    "# Verificar se o ácido carboxílico está presente na molécula\n",
    "acido_carboxilico_presente = teste.HasSubstructMatch(smarts_acido_carboxilico)\n",
    "if acido_carboxilico_presente:\n",
    "    desat_score += 3\n",
    "acido_carboxilico_presente"
   ]
  },
  {
   "cell_type": "code",
   "execution_count": 20,
   "metadata": {},
   "outputs": [
    {
     "data": {
      "image/png": "[encoded data removed]",
      "text/plain": [
       "<rdkit.Chem.rdchem.Mol at 0x200ef1f79e0>"
      ]
     },
     "execution_count": 20,
     "metadata": {},
     "output_type": "execute_result"
    }
   ],
   "source": [
    "# Verificar se n-nitroso pirrolidina\n",
    "smarts_pirrolidina = Chem.MolFromSmarts('[#8]=[#7]-[#7]-1-[#6]-[#6]-[#6]-[#6]-1')\n",
    "smarts_pirrolidina"
   ]
  },
  {
   "cell_type": "code",
   "execution_count": 21,
   "metadata": {},
   "outputs": [
    {
     "data": {
      "text/plain": [
       "False"
      ]
     },
     "execution_count": 21,
     "metadata": {},
     "output_type": "execute_result"
    }
   ],
   "source": [
    "pirrolidina_presente = mol.HasSubstructMatch(smarts_pirrolidina)\n",
    "if pirrolidina_presente:\n",
    "    desat_score += 3\n",
    "pirrolidina_presente"
   ]
  },
  {
   "cell_type": "code",
   "execution_count": 22,
   "metadata": {},
   "outputs": [
    {
     "data": {
      "image/png": "[encoded data removed]",
      "text/plain": [
       "<rdkit.Chem.rdchem.Mol at 0x200ef1f7a50>"
      ]
     },
     "execution_count": 22,
     "metadata": {},
     "output_type": "execute_result"
    }
   ],
   "source": [
    "# Verificar se n-nitroso tiofeno\n",
    "smarts_analogo_tiofeno = Chem.MolFromSmarts('[#6]-1-[#6]-[#16]-[#6]-[#6]-[#7]-1-[#7]=[#8]')\n",
    "smarts_analogo_tiofeno2 = Chem.MolFromSmarts('[#16]-1-[#6]-[#6]-[#6]-[#6]-[#7]-1-[#7]=[#8]')\n",
    "smarts_analogo_tiofeno3 = Chem.MolFromSmarts('[#6]-1-[#16]-[#6]-[#6]-[#6]-[#7]-1-[#7]=[#8]')\n",
    "smarts_analogo_tiofeno"
   ]
  },
  {
   "cell_type": "code",
   "execution_count": 23,
   "metadata": {},
   "outputs": [
    {
     "data": {
      "text/plain": [
       "False"
      ]
     },
     "execution_count": 23,
     "metadata": {},
     "output_type": "execute_result"
    }
   ],
   "source": [
    "tiofenos = [smarts_analogo_tiofeno, smarts_analogo_tiofeno2, smarts_analogo_tiofeno3]\n",
    "for item in tiofenos:\n",
    "    nitrosoS_presente = mol.HasSubstructMatch(item)\n",
    "    if nitrosoS_presente:\n",
    "        desat_score += 3\n",
    "nitrosoS_presente"
   ]
  },
  {
   "cell_type": "code",
   "execution_count": 36,
   "metadata": {},
   "outputs": [
    {
     "data": {
      "image/png": "[encoded data removed]",
      "text/plain": [
       "<rdkit.Chem.rdchem.Mol at 0x26567a2c350>"
      ]
     },
     "execution_count": 36,
     "metadata": {},
     "output_type": "execute_result"
    }
   ],
   "source": [
    "# Verificar se n-nitroso em anel de 5 ou 6 membros\n",
    "smarts_anel_6 = Chem.MolFromSmarts('[#6]-1-[#6]-[#6]-[#6]-[#6]-[#7]-1-[#7]=[#8]')\n",
    "smarts_anel_6_1 = Chem.MolFromSmarts('[#6]-1-[#6]-[#6]-[#7](-[#7]=[#8])-[#6]-[#7]-1')\n",
    "smarts_anel_6_2 = Chem.MolFromSmarts('[#6]-1-[#6]-[#7](-[#7]=[#8])-[#6]-[#6]-[#7]-1')\n",
    "smarts_anel_5_1 = Chem.MolFromSmarts('[#6]-1-[#7](-[#6]-[#6]-[#7]-1)-[#7]=[#8]')\n",
    "smarts_anel_6"
   ]
  },
  {
   "cell_type": "code",
   "execution_count": 37,
   "metadata": {},
   "outputs": [
    {
     "data": {
      "text/plain": [
       "False"
      ]
     },
     "execution_count": 37,
     "metadata": {},
     "output_type": "execute_result"
    }
   ],
   "source": [
    "smarts_anel = [smarts_anel_6, smarts_anel_6_1, smarts_anel_6_2, smarts_anel_5_1]\n",
    "for item in smarts_anel:\n",
    "    smarts_anel_presente = mol.HasSubstructMatch(item)\n",
    "    if smarts_anel_presente:\n",
    "        desat_score += 2\n",
    "smarts_anel_presente"
   ]
  },
  {
   "cell_type": "code",
   "execution_count": 38,
   "metadata": {},
   "outputs": [
    {
     "data": {
      "image/png": "[encoded data removed]",
      "text/plain": [
       "<rdkit.Chem.rdchem.Mol at 0x26567a30120>"
      ]
     },
     "execution_count": 38,
     "metadata": {},
     "output_type": "execute_result"
    }
   ],
   "source": [
    "# nitroso morpholine ring\n",
    "\n",
    "smarts_morpholine = Chem.MolFromSmarts('[#6]-1-[#6]-[#8]-[#6]-[#6]-[#7]-1-[#7]=[#8]')\n",
    "smarts_morpholine_presente = mol.HasSubstructMatch(smarts_morpholine)\n",
    "if smarts_morpholine_presente:\n",
    "    desat_score += 1\n",
    "smarts_morpholine"
   ]
  },
  {
   "cell_type": "code",
   "execution_count": 42,
   "metadata": {},
   "outputs": [
    {
     "data": {
      "image/png": "[encoded data removed]",
      "text/plain": [
       "<rdkit.Chem.rdchem.Mol at 0x26567a30200>"
      ]
     },
     "execution_count": 42,
     "metadata": {},
     "output_type": "execute_result"
    }
   ],
   "source": [
    "# nitroso 7 member ring\n",
    "\n",
    "smarts_7member = Chem.MolFromSmarts('[A,a]-1-[A,a]-[A,a]-[A,a]-[A,a]-[A,a]-[#7]-1-[#7]=[#8]')\n",
    "smarts_7member_presente = mol.HasSubstructMatch(smarts_7member)\n",
    "if smarts_7member_presente:\n",
    "    desat_score += 1\n",
    "smarts_7member"
   ]
  },
  {
   "cell_type": "code",
   "execution_count": 64,
   "metadata": {},
   "outputs": [
    {
     "data": {
      "image/png": "[encoded data removed]",
      "text/plain": [
       "<rdkit.Chem.rdchem.Mol at 0x26567a49d60>"
      ]
     },
     "execution_count": 64,
     "metadata": {},
     "output_type": "execute_result"
    }
   ],
   "source": [
    "teste5555 = Chem.MolFromSmiles(\"C1C[S]CCCN1N=O\")\n",
    "validar = teste5555.HasSubstructMatch(smarts_7member)\n",
    "teste5555"
   ]
  },
  {
   "cell_type": "markdown",
   "metadata": {},
   "source": [
    "## MEDIR TAMANHO CADEIAS"
   ]
  },
  {
   "cell_type": "code",
   "execution_count": 40,
   "metadata": {},
   "outputs": [],
   "source": [
    "# note_for_everyatom_except_anel = [A&!R]"
   ]
  },
  {
   "cell_type": "code",
   "execution_count": 72,
   "metadata": {},
   "outputs": [
    {
     "data": {
      "image/png": "[encoded data removed]",
      "text/plain": [
       "<rdkit.Chem.rdchem.Mol at 0x23c4d1f54a0>"
      ]
     },
     "execution_count": 72,
     "metadata": {},
     "output_type": "execute_result"
    }
   ],
   "source": [
    "smarts_5A_2 = Chem.MolFromSmarts('[A&!R]-[A,a]-[A,a]-[A,a]-[A,a]-[#7](-[#7]=[#8])-[A,a]-[A,a]-[A,a]-[A,a]-[A,a]')\n",
    "smarts_5A_2"
   ]
  },
  {
   "cell_type": "code",
   "execution_count": 60,
   "metadata": {},
   "outputs": [],
   "source": [
    "a = Chem.MolFromSmarts('[A,a]-[A,a]-[A,a]-[A,a]-[A,a]-[#7](-[#7]=[#8])-[A,a]-[A,a]-[A,a]-[A,a]-[A,a]')"
   ]
  },
  {
   "cell_type": "code",
   "execution_count": 61,
   "metadata": {},
   "outputs": [
    {
     "data": {
      "image/png": "[encoded data removed]",
      "text/plain": [
       "<rdkit.Chem.rdchem.Mol at 0x26579bc9970>"
      ]
     },
     "execution_count": 61,
     "metadata": {},
     "output_type": "execute_result"
    }
   ],
   "source": [
    "a"
   ]
  },
  {
   "cell_type": "code",
   "execution_count": null,
   "metadata": {},
   "outputs": [],
   "source": []
  }
 ],
 "metadata": {
  "interpreter": {
   "hash": "1b6bae7afadab51495ca45180def891d057313600861c2787fb840a8ea2c8fb4"
  },
  "kernelspec": {
   "display_name": "Python 3.8.16 ('ds-3.8')",
   "language": "python",
   "name": "python3"
  },
  "language_info": {
   "codemirror_mode": {
    "name": "ipython",
    "version": 3
   },
   "file_extension": ".py",
   "mimetype": "text/x-python",
   "name": "python",
   "nbconvert_exporter": "python",
   "pygments_lexer": "ipython3",
   "version": "3.8.16"
  },
  "orig_nbformat": 4
 },
 "nbformat": 4,
 "nbformat_minor": 2
}
